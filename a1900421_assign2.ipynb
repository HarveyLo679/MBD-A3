{
 "cells": [
  {
   "cell_type": "markdown",
   "id": "6730fecf",
   "metadata": {},
   "source": [
    "## Assignment 2: Recommendation System\n",
    "\n",
    "### Matthew Axell A1900421"
   ]
  },
  {
   "cell_type": "code",
   "execution_count": 78,
   "id": "686b3746",
   "metadata": {},
   "outputs": [
    {
     "name": "stdout",
     "output_type": "stream",
     "text": [
      "Requirement already satisfied: pip in c:\\users\\axell\\anaconda3\\lib\\site-packages (23.2.1)\n",
      "Collecting pip\n",
      "  Obtaining dependency information for pip from https://files.pythonhosted.org/packages/8a/6a/19e9fe04fca059ccf770861c7d5721ab4c2aebc539889e97c7977528a53b/pip-24.0-py3-none-any.whl.metadata\n",
      "  Using cached pip-24.0-py3-none-any.whl.metadata (3.6 kB)\n",
      "Collecting setuptools<58.0\n",
      "  Obtaining dependency information for setuptools<58.0 from https://files.pythonhosted.org/packages/4b/b9/71687c5d2034c863db1db2e0704f5e27581ff3cb44d7f293968c5e08ceb3/setuptools-57.5.0-py3-none-any.whl.metadata\n",
      "  Using cached setuptools-57.5.0-py3-none-any.whl.metadata (4.9 kB)\n",
      "Using cached pip-24.0-py3-none-any.whl (2.1 MB)\n",
      "Using cached setuptools-57.5.0-py3-none-any.whl (819 kB)\n"
     ]
    },
    {
     "name": "stderr",
     "output_type": "stream",
     "text": [
      "ERROR: To modify pip, please run the following command:\n",
      "c:\\Users\\axell\\anaconda3\\python.exe -m pip install --upgrade pip setuptools<58.0\n"
     ]
    },
    {
     "name": "stdout",
     "output_type": "stream",
     "text": [
      "Collecting ml_metrics\n",
      "  Using cached ml_metrics-0.1.4.tar.gz (5.0 kB)\n",
      "  Preparing metadata (setup.py): started\n",
      "  Preparing metadata (setup.py): finished with status 'error'\n"
     ]
    },
    {
     "name": "stderr",
     "output_type": "stream",
     "text": [
      "  error: subprocess-exited-with-error\n",
      "  \n",
      "  × python setup.py egg_info did not run successfully.\n",
      "  │ exit code: 1\n",
      "  ╰─> [1 lines of output]\n",
      "      error in ml_metrics setup command: use_2to3 is invalid.\n",
      "      [end of output]\n",
      "  \n",
      "  note: This error originates from a subprocess, and is likely not a problem with pip.\n",
      "error: metadata-generation-failed\n",
      "\n",
      "× Encountered error while generating package metadata.\n",
      "╰─> See above for output.\n",
      "\n",
      "note: This is an issue with the package mentioned above, not pip.\n",
      "hint: See above for details.\n"
     ]
    }
   ],
   "source": [
    "# !pip install mlxtend\n",
    "# !pip install implicit\n",
    "!pip install --upgrade pip \"setuptools<58.0\"\n",
    "!pip install ml_metrics --upgrade"
   ]
  },
  {
   "cell_type": "code",
   "execution_count": 89,
   "id": "58b71f1d",
   "metadata": {},
   "outputs": [],
   "source": [
    "# General imports\n",
    "import pandas as pd\n",
    "import numpy as np\n",
    "import matplotlib.pyplot as plt\n",
    "import seaborn as sns\n",
    "import warnings\n",
    "warnings.filterwarnings(\"ignore\", category=DeprecationWarning)\n",
    "warnings.filterwarnings(\"ignore\", category=UserWarning)\n",
    "\n",
    "# EDA\n",
    "from itertools import combinations\n",
    "from collections import Counter\n",
    "import textwrap\n",
    "from mlxtend.frequent_patterns import apriori, association_rules\n",
    "\n",
    "# Preprocessing\n",
    "import scipy.sparse as sparse\n",
    "\n",
    "# Model\n",
    "import implicit\n",
    "\n",
    "# Metrics\n",
    "from implicit.evaluation import AUC_at_k, precision_at_k, mean_average_precision_at_k, ndcg_at_k\n",
    "from sklearn.metrics import roc_auc_score, average_precision_score, ndcg_score"
   ]
  },
  {
   "cell_type": "markdown",
   "id": "3df2aac6",
   "metadata": {},
   "source": [
    "### 1. Read the dataset"
   ]
  },
  {
   "cell_type": "code",
   "execution_count": 10,
   "id": "e967e07b",
   "metadata": {},
   "outputs": [
    {
     "data": {
      "text/html": [
       "<div>\n",
       "<style scoped>\n",
       "    .dataframe tbody tr th:only-of-type {\n",
       "        vertical-align: middle;\n",
       "    }\n",
       "\n",
       "    .dataframe tbody tr th {\n",
       "        vertical-align: top;\n",
       "    }\n",
       "\n",
       "    .dataframe thead th {\n",
       "        text-align: right;\n",
       "    }\n",
       "</style>\n",
       "<table border=\"1\" class=\"dataframe\">\n",
       "  <thead>\n",
       "    <tr style=\"text-align: right;\">\n",
       "      <th></th>\n",
       "      <th>BillNo</th>\n",
       "      <th>Itemname</th>\n",
       "      <th>Quantity</th>\n",
       "      <th>Date</th>\n",
       "      <th>Price</th>\n",
       "      <th>CustomerID</th>\n",
       "      <th>cost</th>\n",
       "    </tr>\n",
       "  </thead>\n",
       "  <tbody>\n",
       "    <tr>\n",
       "      <th>0</th>\n",
       "      <td>536365</td>\n",
       "      <td>KNITTED UNION FLAG HOT WATER BOTTLE</td>\n",
       "      <td>6</td>\n",
       "      <td>1/12/2010 8:26</td>\n",
       "      <td>3.39</td>\n",
       "      <td>17850</td>\n",
       "      <td>20.34</td>\n",
       "    </tr>\n",
       "    <tr>\n",
       "      <th>1</th>\n",
       "      <td>536365</td>\n",
       "      <td>GLASS STAR FROSTED T-LIGHT HOLDER</td>\n",
       "      <td>6</td>\n",
       "      <td>1/12/2010 8:26</td>\n",
       "      <td>4.25</td>\n",
       "      <td>17850</td>\n",
       "      <td>25.50</td>\n",
       "    </tr>\n",
       "    <tr>\n",
       "      <th>2</th>\n",
       "      <td>536365</td>\n",
       "      <td>WHITE HANGING HEART T-LIGHT HOLDER</td>\n",
       "      <td>6</td>\n",
       "      <td>1/12/2010 8:26</td>\n",
       "      <td>2.55</td>\n",
       "      <td>17850</td>\n",
       "      <td>15.30</td>\n",
       "    </tr>\n",
       "    <tr>\n",
       "      <th>3</th>\n",
       "      <td>536365</td>\n",
       "      <td>RED WOOLLY HOTTIE WHITE HEART.</td>\n",
       "      <td>6</td>\n",
       "      <td>1/12/2010 8:26</td>\n",
       "      <td>3.39</td>\n",
       "      <td>17850</td>\n",
       "      <td>20.34</td>\n",
       "    </tr>\n",
       "    <tr>\n",
       "      <th>4</th>\n",
       "      <td>536365</td>\n",
       "      <td>SET 7 BABUSHKA NESTING BOXES</td>\n",
       "      <td>2</td>\n",
       "      <td>1/12/2010 8:26</td>\n",
       "      <td>7.65</td>\n",
       "      <td>17850</td>\n",
       "      <td>15.30</td>\n",
       "    </tr>\n",
       "  </tbody>\n",
       "</table>\n",
       "</div>"
      ],
      "text/plain": [
       "   BillNo                             Itemname  Quantity            Date  \\\n",
       "0  536365  KNITTED UNION FLAG HOT WATER BOTTLE         6  1/12/2010 8:26   \n",
       "1  536365    GLASS STAR FROSTED T-LIGHT HOLDER         6  1/12/2010 8:26   \n",
       "2  536365   WHITE HANGING HEART T-LIGHT HOLDER         6  1/12/2010 8:26   \n",
       "3  536365       RED WOOLLY HOTTIE WHITE HEART.         6  1/12/2010 8:26   \n",
       "4  536365         SET 7 BABUSHKA NESTING BOXES         2  1/12/2010 8:26   \n",
       "\n",
       "   Price  CustomerID   cost  \n",
       "0   3.39       17850  20.34  \n",
       "1   4.25       17850  25.50  \n",
       "2   2.55       17850  15.30  \n",
       "3   3.39       17850  20.34  \n",
       "4   7.65       17850  15.30  "
      ]
     },
     "metadata": {},
     "output_type": "display_data"
    },
    {
     "data": {
      "text/plain": [
       "(40000, 7)"
      ]
     },
     "metadata": {},
     "output_type": "display_data"
    },
    {
     "data": {
      "text/html": [
       "<div>\n",
       "<style scoped>\n",
       "    .dataframe tbody tr th:only-of-type {\n",
       "        vertical-align: middle;\n",
       "    }\n",
       "\n",
       "    .dataframe tbody tr th {\n",
       "        vertical-align: top;\n",
       "    }\n",
       "\n",
       "    .dataframe thead th {\n",
       "        text-align: right;\n",
       "    }\n",
       "</style>\n",
       "<table border=\"1\" class=\"dataframe\">\n",
       "  <thead>\n",
       "    <tr style=\"text-align: right;\">\n",
       "      <th></th>\n",
       "      <th>BillNo</th>\n",
       "      <th>Itemname</th>\n",
       "      <th>Quantity</th>\n",
       "      <th>Date</th>\n",
       "      <th>Price</th>\n",
       "      <th>CustomerID</th>\n",
       "      <th>cost</th>\n",
       "    </tr>\n",
       "  </thead>\n",
       "  <tbody>\n",
       "    <tr>\n",
       "      <th>0</th>\n",
       "      <td>544398.0</td>\n",
       "      <td>JUMBO SHOPPER VINTAGE RED PAISLEY</td>\n",
       "      <td>1.0</td>\n",
       "      <td>18/02/2011 12:27</td>\n",
       "      <td>1.95</td>\n",
       "      <td>15311.0</td>\n",
       "      <td>1.95</td>\n",
       "    </tr>\n",
       "    <tr>\n",
       "      <th>1</th>\n",
       "      <td>544398.0</td>\n",
       "      <td>ZINC WILLIE WINKIE  CANDLE STICK</td>\n",
       "      <td>4.0</td>\n",
       "      <td>18/02/2011 12:27</td>\n",
       "      <td>0.85</td>\n",
       "      <td>15311.0</td>\n",
       "      <td>3.40</td>\n",
       "    </tr>\n",
       "    <tr>\n",
       "      <th>2</th>\n",
       "      <td>544398.0</td>\n",
       "      <td>LOVE BUILDING BLOCK WORD</td>\n",
       "      <td>2.0</td>\n",
       "      <td>18/02/2011 12:27</td>\n",
       "      <td>5.95</td>\n",
       "      <td>15311.0</td>\n",
       "      <td>11.90</td>\n",
       "    </tr>\n",
       "    <tr>\n",
       "      <th>3</th>\n",
       "      <td>544398.0</td>\n",
       "      <td>HANGING FAIRY CAKE DECORATION</td>\n",
       "      <td>3.0</td>\n",
       "      <td>18/02/2011 12:27</td>\n",
       "      <td>2.10</td>\n",
       "      <td>15311.0</td>\n",
       "      <td>6.30</td>\n",
       "    </tr>\n",
       "    <tr>\n",
       "      <th>4</th>\n",
       "      <td>544398.0</td>\n",
       "      <td>RED HEART SHAPE LOVE BUCKET</td>\n",
       "      <td>1.0</td>\n",
       "      <td>18/02/2011 12:27</td>\n",
       "      <td>2.95</td>\n",
       "      <td>15311.0</td>\n",
       "      <td>2.95</td>\n",
       "    </tr>\n",
       "  </tbody>\n",
       "</table>\n",
       "</div>"
      ],
      "text/plain": [
       "     BillNo                           Itemname  Quantity              Date  \\\n",
       "0  544398.0  JUMBO SHOPPER VINTAGE RED PAISLEY       1.0  18/02/2011 12:27   \n",
       "1  544398.0   ZINC WILLIE WINKIE  CANDLE STICK       4.0  18/02/2011 12:27   \n",
       "2  544398.0           LOVE BUILDING BLOCK WORD       2.0  18/02/2011 12:27   \n",
       "3  544398.0      HANGING FAIRY CAKE DECORATION       3.0  18/02/2011 12:27   \n",
       "4  544398.0        RED HEART SHAPE LOVE BUCKET       1.0  18/02/2011 12:27   \n",
       "\n",
       "   Price  CustomerID   cost  \n",
       "0   1.95     15311.0   1.95  \n",
       "1   0.85     15311.0   3.40  \n",
       "2   5.95     15311.0  11.90  \n",
       "3   2.10     15311.0   6.30  \n",
       "4   2.95     15311.0   2.95  "
      ]
     },
     "metadata": {},
     "output_type": "display_data"
    },
    {
     "data": {
      "text/plain": [
       "(10000, 7)"
      ]
     },
     "metadata": {},
     "output_type": "display_data"
    },
    {
     "name": "stdout",
     "output_type": "stream",
     "text": [
      "Train Data Null Values count\n"
     ]
    },
    {
     "data": {
      "text/plain": [
       "BillNo        0\n",
       "Itemname      0\n",
       "Quantity      0\n",
       "Date          0\n",
       "Price         0\n",
       "CustomerID    0\n",
       "cost          0\n",
       "dtype: int64"
      ]
     },
     "metadata": {},
     "output_type": "display_data"
    },
    {
     "name": "stdout",
     "output_type": "stream",
     "text": [
      "After DropNA (40000, 7)\n"
     ]
    }
   ],
   "source": [
    "# for training and EDA\n",
    "df_train = pd.read_csv('basket_data_by_date_train.csv')\n",
    "display(df_train.head())\n",
    "display(df_train.shape)\n",
    "\n",
    "# for testing and displaying final results|\n",
    "df_test = pd.read_csv('basket_data_by_date_test.csv')\n",
    "display(df_test.head())\n",
    "df_test.dropna(inplace=True)\n",
    "display(df_test.shape)\n",
    "\n",
    "print(\"Train Data Null Values count\")\n",
    "display(df_train.isnull().sum())\n",
    "df_train.dropna(inplace=True)\n",
    "print(\"After DropNA\",df_train.shape)"
   ]
  },
  {
   "cell_type": "markdown",
   "id": "31d75afc",
   "metadata": {},
   "source": [
    "### 2. Analyse and visualise the data"
   ]
  },
  {
   "cell_type": "code",
   "execution_count": null,
   "id": "2d286790",
   "metadata": {},
   "outputs": [
    {
     "name": "stdout",
     "output_type": "stream",
     "text": [
      "<class 'pandas.core.frame.DataFrame'>\n",
      "RangeIndex: 40000 entries, 0 to 39999\n",
      "Data columns (total 7 columns):\n",
      " #   Column      Non-Null Count  Dtype  \n",
      "---  ------      --------------  -----  \n",
      " 0   BillNo      40000 non-null  int64  \n",
      " 1   Itemname    40000 non-null  object \n",
      " 2   Quantity    40000 non-null  int64  \n",
      " 3   Date        40000 non-null  object \n",
      " 4   Price       40000 non-null  float64\n",
      " 5   CustomerID  40000 non-null  int64  \n",
      " 6   cost        40000 non-null  float64\n",
      "dtypes: float64(2), int64(3), object(2)\n",
      "memory usage: 2.1+ MB\n"
     ]
    },
    {
     "data": {
      "text/plain": [
       "None"
      ]
     },
     "metadata": {},
     "output_type": "display_data"
    },
    {
     "data": {
      "text/html": [
       "<div>\n",
       "<style scoped>\n",
       "    .dataframe tbody tr th:only-of-type {\n",
       "        vertical-align: middle;\n",
       "    }\n",
       "\n",
       "    .dataframe tbody tr th {\n",
       "        vertical-align: top;\n",
       "    }\n",
       "\n",
       "    .dataframe thead th {\n",
       "        text-align: right;\n",
       "    }\n",
       "</style>\n",
       "<table border=\"1\" class=\"dataframe\">\n",
       "  <thead>\n",
       "    <tr style=\"text-align: right;\">\n",
       "      <th></th>\n",
       "      <th>BillNo</th>\n",
       "      <th>Quantity</th>\n",
       "      <th>Price</th>\n",
       "      <th>CustomerID</th>\n",
       "      <th>cost</th>\n",
       "    </tr>\n",
       "  </thead>\n",
       "  <tbody>\n",
       "    <tr>\n",
       "      <th>count</th>\n",
       "      <td>40000.000000</td>\n",
       "      <td>40000.000000</td>\n",
       "      <td>40000.000000</td>\n",
       "      <td>40000.000000</td>\n",
       "      <td>40000.000000</td>\n",
       "    </tr>\n",
       "    <tr>\n",
       "      <th>mean</th>\n",
       "      <td>540254.879225</td>\n",
       "      <td>3.487700</td>\n",
       "      <td>3.732165</td>\n",
       "      <td>15577.606525</td>\n",
       "      <td>11.097411</td>\n",
       "    </tr>\n",
       "    <tr>\n",
       "      <th>std</th>\n",
       "      <td>2380.444952</td>\n",
       "      <td>2.611766</td>\n",
       "      <td>5.711630</td>\n",
       "      <td>1730.347123</td>\n",
       "      <td>13.298301</td>\n",
       "    </tr>\n",
       "    <tr>\n",
       "      <th>min</th>\n",
       "      <td>536365.000000</td>\n",
       "      <td>1.000000</td>\n",
       "      <td>0.100000</td>\n",
       "      <td>12347.000000</td>\n",
       "      <td>0.140000</td>\n",
       "    </tr>\n",
       "    <tr>\n",
       "      <th>25%</th>\n",
       "      <td>538093.000000</td>\n",
       "      <td>1.000000</td>\n",
       "      <td>1.650000</td>\n",
       "      <td>14224.000000</td>\n",
       "      <td>3.300000</td>\n",
       "    </tr>\n",
       "    <tr>\n",
       "      <th>50%</th>\n",
       "      <td>540373.000000</td>\n",
       "      <td>2.000000</td>\n",
       "      <td>2.950000</td>\n",
       "      <td>15570.000000</td>\n",
       "      <td>7.950000</td>\n",
       "    </tr>\n",
       "    <tr>\n",
       "      <th>75%</th>\n",
       "      <td>542360.000000</td>\n",
       "      <td>6.000000</td>\n",
       "      <td>4.650000</td>\n",
       "      <td>17220.000000</td>\n",
       "      <td>15.800000</td>\n",
       "    </tr>\n",
       "    <tr>\n",
       "      <th>max</th>\n",
       "      <td>544398.000000</td>\n",
       "      <td>10.000000</td>\n",
       "      <td>295.000000</td>\n",
       "      <td>18283.000000</td>\n",
       "      <td>527.700000</td>\n",
       "    </tr>\n",
       "  </tbody>\n",
       "</table>\n",
       "</div>"
      ],
      "text/plain": [
       "              BillNo      Quantity         Price    CustomerID          cost\n",
       "count   40000.000000  40000.000000  40000.000000  40000.000000  40000.000000\n",
       "mean   540254.879225      3.487700      3.732165  15577.606525     11.097411\n",
       "std      2380.444952      2.611766      5.711630   1730.347123     13.298301\n",
       "min    536365.000000      1.000000      0.100000  12347.000000      0.140000\n",
       "25%    538093.000000      1.000000      1.650000  14224.000000      3.300000\n",
       "50%    540373.000000      2.000000      2.950000  15570.000000      7.950000\n",
       "75%    542360.000000      6.000000      4.650000  17220.000000     15.800000\n",
       "max    544398.000000     10.000000    295.000000  18283.000000    527.700000"
      ]
     },
     "metadata": {},
     "output_type": "display_data"
    }
   ],
   "source": [
    "display(df_train.info())\n",
    "display(df_train.describe())"
   ]
  },
  {
   "cell_type": "code",
   "execution_count": 5,
   "id": "fe7349dd",
   "metadata": {},
   "outputs": [
    {
     "name": "stdout",
     "output_type": "stream",
     "text": [
      "Unique Customers in training:\t 1391\n",
      "Unique Items in training:\t 2523\n",
      "Unique Customers in testing:\t 519\n",
      "Unique Items in testing:\t 1752\n"
     ]
    }
   ],
   "source": [
    "print(\"Unique Customers in training:\\t\",df_train['CustomerID'].nunique())\n",
    "print(\"Unique Items in training:\\t\",df_train['Itemname'].nunique())\n",
    "print(\"Unique Customers in testing:\\t\",df_test['CustomerID'].nunique())\n",
    "print(\"Unique Items in testing:\\t\",df_test['Itemname'].nunique())"
   ]
  },
  {
   "cell_type": "code",
   "execution_count": 132,
   "id": "c42cabd3",
   "metadata": {},
   "outputs": [
    {
     "name": "stdout",
     "output_type": "stream",
     "text": [
      "{\"MOTHER'S KITCHEN SPOON REST\", 'CLASSICAL ROSE CANDLESTAND', 'BABY MOUSE RED GINGHAM DRESS', 'SMALL BLUE PROVENCAL CERAMIC BALL', 'PURPLE FOXGLOVE ARTIIFCIAL FLOWER', 'SILVER LARIAT 40CM', 'BEADED CRYSTAL HEART BLUE  LARGE', \"NEW BAROQUE B'FLY NECKLACE CRYSTAL\", 'WOVEN BERRIES CUSHION COVER', 'PINK AND BLACK STRING CURTAIN', 'DOLLCRAFT GIRL AMELIE', 'BULL DOG BOTTLE OPENER', 'PURPLE/TURQ FLOWERS HANDBAG', \"MUM'S KITCHEN CLOCK\", '4 SKY BLUE DINNER CANDLES', 'LETTER \"P\" BLING KEY RING', 'PURPLE/COPPER HANGING LAMPSHADE', \"CLOCK MAGNET MUM'S KITCHEN\", 'FLOWERS TILE COASTER', 'NUMBER TILE VINTAGE FONT 0', 'CLEAR STATIONERY BOX SET', 'SET/6 FRUIT SALAD PAPER CUPS', 'RECYCLED ACAPULCO MAT LAVENDER', 'ABC TREASURE BOOK BOX', 'RASPBERRY ANT COPPER FLOWER NECKLAC', 'FELTCRAFT GIRL NICOLE KIT', 'CHILDRENS CUTLERY RETROSPOT RED', 'GIRAFFE WOODEN RULER', 'HAIRCLIPS FORTIES FABRIC ASSORTED', 'WHITE ALLIUM  ARTIFICIAL FLOWER', 'CHILDRENS CUTLERY POLKADOT GREEN', 'ASSORTED COLOUR METAL CAT', 'PANTRY PASTRY BRUSH', 'WHITE VINTAGE CRYSTAL BRACELET', 'PINK & WHITE ROSEBUD RING', 'LUNCH BAG SUKI DESIGN', 'MIRRORED WALL ART SPLODGES', 'PINK RIVIERA HANDBAG', 'SET/6 POSIES PAPER CUPS', 'PURPLE ANEMONE ARTIFICIAL FLOWER', 'MIRRORED DOVE WALL DECORATION', 'SILVER ROCOCO CANDLE STICK', 'T-LIGHT HOLDER WHITE LACE', 'SCALLOP SHELL SOAP DISH', 'S/3 PINK SQUARE PLANTERS ROSES', 'FRENCH STYLE STORAGE JAR CAFE', 'GLASS AND BEADS BRACELET IVORY', 'TRAVEL CARD WALLET RETRO PETALS', 'DOLLCRAFT BOY JEAN-PAUL', 'BLUE MURANO TWIST NECKLACE', 'CHILDRENS CUTLERY POLKADOT BLUE', 'GLASS AND PAINTED BEADS BRACELET OL', 'RECYCLED ACAPULCO MAT PINK', 'GYMKHANA TREASURE BOOK BOX', 'FRENCH STYLE STORAGE JAR BONBONS', 'PINK CRYSTAL GUITAR PHONE CHARM', 'TREASURE ISLAND BOOK BOX', 'SILVER BRACELET W PASTEL FLOWER', 'RECYCLED ACAPULCO MAT GREEN', 'RECYCLED ACAPULCO MAT TURQUOISE', 'TOP SECRET PEN SET', 'EAU DE NIL LOVE BIRD CANDLE', 'FEATHER PEN,COAL BLACK', 'DECORATIVE FLORE BATHROOM BOTTLE', 'FELTCRAFT GIRL AMELIE KIT', 'PANTRY WASHING UP BRUSH', 'PINK FOXGLOVE ARTIIFCIAL FLOWER', 'PANTRY APPLE CORER', 'NECKLACE+BRACELET SET BLUE BLOSSOM', 'GOLD M.O.P ORBIT DROP EARRINGS', 'TOILET SIGN OCCUPIED OR VACANT', 'JUMBO BAG SCANDINAVIAN BLUE PAISLEY', 'GYMKHANNA TREASURE BOOK BOX', 'PINK STRING CURTAIN WITH POLE', 'SET/6 FRUIT SALAD  PAPER PLATES', 'MIDNIGHT BLUE COPPER FLOWER NECKLAC', \"NEW BAROQUE B'FLY NECKLACE GREEN\", 'WOVEN FROST CUSHION COVER', 'TURQ PENDANT TRIPLE SHELL NECKLACE', 'MURANO STYLE GLASS BRACELET GOLD', 'BLACK DROP EARRINGS W LONG BEADS', 'RECYCLED ACAPULCO MAT BLUE', 'MUSICAL ZINC HEART DECORATION', 'GLASS BEAD HOOP NECKLACE AMETHYST', 'BLUE WHITE PLASTIC RINGS LAMPSHADE', 'SWISS ROLL TOWEL PINK  SPOTS', 'LETTER \"A\" BLING KEY RING', 'GLASS BEAD HOOP NECKLACE MONTANA', 'FELTCRAFT BOY JEAN-PAUL KIT', 'NUMBER TILE VINTAGE FONT 9', 'GLASS BEAD HOOP NECKLACE GREEN', 'DOLLCRAFT GIRL AMELIE KIT', 'DOLLCRAFT GIRL NICOLE', 'HANGING HEART WITH BELL', 'BLACK FEATHER CHRISTMAS DECORATION', 'HEART BUTTONS JEWELLERY BOX', 'WHITE WITH BLACK CATS PLATE', 'TRAVEL CARD WALLET PANTRY', 'STARFISH SOAP DISH', 'NECKLACE+BRACELET SET PINK DAISY', '50CM METAL STRING WITH  7 CLIPS', 'CROCHET ROSE DES CLOTHES HANGER', 'COPPER/OLIVE GREEN FLOWER NECKLACE', 'BULL DOG BOTTLE TOP WALL CLOCK', 'FUNKY MONKEY CUSHION COVER', 'RECYCLED ACAPULCO MAT RED', 'BUFFALO BILL TREASURE BOOK BOX', 'NUMBER TILE VINTAGE FONT 7', 'S/4 ICON COASTER,ELVIS LIVES', 'CHILDRENS CUTLERY POLKADOT PINK', 'BEST DAD CANDLE LETTERS', 'MIRRORED WALL ART POPPIES', 'BLUE HOLE PUNCH', 'JAM CLOCK MAGNET', 'GREEN PENDANT TRIPLE SHELL NECKLACE', 'GROOVY CACTUS INFLATABLE', 'PAPERWEIGHT KINGS CHOICE', 'SMALL SINGLE FLAME CANDLE HOLDER'}\n",
      "118\n"
     ]
    }
   ],
   "source": [
    "# find missing itemNames in test data\n",
    "missing_itemNames = set(df_test['Itemname']) - set(df_train['Itemname'])\n",
    "print(missing_itemNames)\n",
    "print(len(missing_itemNames))"
   ]
  },
  {
   "cell_type": "code",
   "execution_count": 280,
   "id": "1e5766a8",
   "metadata": {},
   "outputs": [
    {
     "name": "stdout",
     "output_type": "stream",
     "text": [
      "{14336.0, 15874.0, 16389.0, 17416.0, 16394.0, 12811.0, 16913.0, 17426.0, 16915.0, 16917.0, 13851.0, 13340.0, 16414.0, 14367.0, 14880.0, 13344.0, 12834.0, 13345.0, 17442.0, 15393.0, 15397.0, 13865.0, 16426.0, 16940.0, 12845.0, 13870.0, 14895.0, 13362.0, 17462.0, 14903.0, 15416.0, 16441.0, 15932.0, 13373.0, 13884.0, 16449.0, 12866.0, 14915.0, 13382.0, 14407.0, 15944.0, 12361.0, 12873.0, 17994.0, 17995.0, 16462.0, 15951.0, 16466.0, 16980.0, 13908.0, 17499.0, 16992.0, 13410.0, 17508.0, 15974.0, 17002.0, 13931.0, 17516.0, 13421.0, 14447.0, 16495.0, 15990.0, 17535.0, 13951.0, 16517.0, 14470.0, 16518.0, 12933.0, 14473.0, 17034.0, 18056.0, 13453.0, 16014.0, 14481.0, 12945.0, 14483.0, 14995.0, 13971.0, 18068.0, 13973.0, 13975.0, 17049.0, 16546.0, 14499.0, 13476.0, 13477.0, 17063.0, 14504.0, 12458.0, 14507.0, 16045.0, 18094.0, 14513.0, 15026.0, 12980.0, 13493.0, 16566.0, 15031.0, 15543.0, 14004.0, 16057.0, 16571.0, 12988.0, 16573.0, 13501.0, 14012.0, 14013.0, 15554.0, 18114.0, 17092.0, 13509.0, 16072.0, 15053.0, 16592.0, 17107.0, 15572.0, 14036.0, 16598.0, 13014.0, 15065.0, 15067.0, 12509.0, 17117.0, 15071.0, 14046.0, 17639.0, 18151.0, 14056.0, 14570.0, 18155.0, 16621.0, 13038.0, 15087.0, 17139.0, 13044.0, 15092.0, 17652.0, 13557.0, 17654.0, 16115.0, 14586.0, 18172.0, 12541.0, 17663.0, 15104.0, 16128.0, 15622.0, 16136.0, 18188.0, 17165.0, 15121.0, 17171.0, 15636.0, 12565.0, 18196.0, 14101.0, 15129.0, 16667.0, 14620.0, 15643.0, 16159.0, 14112.0, 18211.0, 17700.0, 16678.0, 12584.0, 15656.0, 15146.0, 13610.0, 18218.0, 17711.0, 16692.0, 14645.0, 12598.0, 18231.0, 16187.0, 15676.0, 13118.0, 13630.0, 14656.0, 15681.0, 13636.0, 16709.0, 12614.0, 16712.0, 17738.0, 14157.0, 14670.0, 12623.0, 16208.0, 14162.0, 16212.0, 12633.0, 16217.0, 13149.0, 15709.0, 15712.0, 16225.0, 13666.0, 15206.0, 18280.0, 15722.0, 13675.0, 15724.0, 17770.0, 13166.0, 16242.0, 15220.0, 13684.0, 15733.0, 16765.0, 17789.0, 13184.0, 15234.0, 14214.0, 12679.0, 15241.0, 14730.0, 14227.0, 14740.0, 15764.0, 14231.0, 16792.0, 15257.0, 17817.0, 13722.0, 12707.0, 17830.0, 14247.0, 17323.0, 17325.0, 13744.0, 13751.0, 13753.0, 15806.0, 17856.0, 14276.0, 16838.0, 15303.0, 16841.0, 17867.0, 15819.0, 13261.0, 12753.0, 14289.0, 14803.0, 12755.0, 16339.0, 12758.0, 12759.0, 15319.0, 15321.0, 13784.0, 15834.0, 14292.0, 16349.0, 17374.0, 13792.0, 14817.0, 16356.0, 13285.0, 17381.0, 15845.0, 13799.0, 15847.0, 13292.0, 13804.0, 13301.0, 15869.0}\n",
      "269\n"
     ]
    }
   ],
   "source": [
    "# find missing itemNames in test data\n",
    "missing_customers = set(df_test['CustomerID']) - set(df_train['CustomerID'])\n",
    "print(missing_customers)\n",
    "print(len(missing_customers))"
   ]
  },
  {
   "cell_type": "code",
   "execution_count": 7,
   "id": "ba584a6f",
   "metadata": {},
   "outputs": [
    {
     "data": {
      "text/html": [
       "<div>\n",
       "<style scoped>\n",
       "    .dataframe tbody tr th:only-of-type {\n",
       "        vertical-align: middle;\n",
       "    }\n",
       "\n",
       "    .dataframe tbody tr th {\n",
       "        vertical-align: top;\n",
       "    }\n",
       "\n",
       "    .dataframe thead th {\n",
       "        text-align: right;\n",
       "    }\n",
       "</style>\n",
       "<table border=\"1\" class=\"dataframe\">\n",
       "  <thead>\n",
       "    <tr style=\"text-align: right;\">\n",
       "      <th></th>\n",
       "      <th>CustomerID</th>\n",
       "      <th>Quantity</th>\n",
       "    </tr>\n",
       "  </thead>\n",
       "  <tbody>\n",
       "    <tr>\n",
       "      <th>count</th>\n",
       "      <td>34295.000000</td>\n",
       "      <td>34295.000000</td>\n",
       "    </tr>\n",
       "    <tr>\n",
       "      <th>mean</th>\n",
       "      <td>15556.777927</td>\n",
       "      <td>4.067882</td>\n",
       "    </tr>\n",
       "    <tr>\n",
       "      <th>std</th>\n",
       "      <td>1731.302737</td>\n",
       "      <td>3.818199</td>\n",
       "    </tr>\n",
       "    <tr>\n",
       "      <th>min</th>\n",
       "      <td>12347.000000</td>\n",
       "      <td>1.000000</td>\n",
       "    </tr>\n",
       "    <tr>\n",
       "      <th>25%</th>\n",
       "      <td>14161.000000</td>\n",
       "      <td>2.000000</td>\n",
       "    </tr>\n",
       "    <tr>\n",
       "      <th>50%</th>\n",
       "      <td>15570.000000</td>\n",
       "      <td>3.000000</td>\n",
       "    </tr>\n",
       "    <tr>\n",
       "      <th>75%</th>\n",
       "      <td>17211.000000</td>\n",
       "      <td>6.000000</td>\n",
       "    </tr>\n",
       "    <tr>\n",
       "      <th>max</th>\n",
       "      <td>18283.000000</td>\n",
       "      <td>104.000000</td>\n",
       "    </tr>\n",
       "  </tbody>\n",
       "</table>\n",
       "</div>"
      ],
      "text/plain": [
       "         CustomerID      Quantity\n",
       "count  34295.000000  34295.000000\n",
       "mean   15556.777927      4.067882\n",
       "std     1731.302737      3.818199\n",
       "min    12347.000000      1.000000\n",
       "25%    14161.000000      2.000000\n",
       "50%    15570.000000      3.000000\n",
       "75%    17211.000000      6.000000\n",
       "max    18283.000000    104.000000"
      ]
     },
     "metadata": {},
     "output_type": "display_data"
    },
    {
     "data": {
      "text/plain": [
       "(34295, 3)"
      ]
     },
     "metadata": {},
     "output_type": "display_data"
    }
   ],
   "source": [
    "df_grouped_customerItem = df_train[['CustomerID', 'Itemname', 'Quantity']].groupby(['CustomerID', 'Itemname']).sum().reset_index().sort_values(by='Quantity')\n",
    "display(df_grouped_customerItem.describe())\n",
    "display(df_grouped_customerItem.shape)"
   ]
  },
  {
   "cell_type": "code",
   "execution_count": 10,
   "id": "106ba525",
   "metadata": {},
   "outputs": [
    {
     "data": {
      "text/html": [
       "<div>\n",
       "<style scoped>\n",
       "    .dataframe tbody tr th:only-of-type {\n",
       "        vertical-align: middle;\n",
       "    }\n",
       "\n",
       "    .dataframe tbody tr th {\n",
       "        vertical-align: top;\n",
       "    }\n",
       "\n",
       "    .dataframe thead th {\n",
       "        text-align: right;\n",
       "    }\n",
       "</style>\n",
       "<table border=\"1\" class=\"dataframe\">\n",
       "  <thead>\n",
       "    <tr style=\"text-align: right;\">\n",
       "      <th></th>\n",
       "      <th>CustomerID</th>\n",
       "      <th>Frequency</th>\n",
       "    </tr>\n",
       "  </thead>\n",
       "  <tbody>\n",
       "    <tr>\n",
       "      <th>count</th>\n",
       "      <td>34295.000000</td>\n",
       "      <td>34295.000000</td>\n",
       "    </tr>\n",
       "    <tr>\n",
       "      <th>mean</th>\n",
       "      <td>15556.777927</td>\n",
       "      <td>1.166351</td>\n",
       "    </tr>\n",
       "    <tr>\n",
       "      <th>std</th>\n",
       "      <td>1731.302737</td>\n",
       "      <td>0.589511</td>\n",
       "    </tr>\n",
       "    <tr>\n",
       "      <th>min</th>\n",
       "      <td>12347.000000</td>\n",
       "      <td>1.000000</td>\n",
       "    </tr>\n",
       "    <tr>\n",
       "      <th>25%</th>\n",
       "      <td>14161.000000</td>\n",
       "      <td>1.000000</td>\n",
       "    </tr>\n",
       "    <tr>\n",
       "      <th>50%</th>\n",
       "      <td>15570.000000</td>\n",
       "      <td>1.000000</td>\n",
       "    </tr>\n",
       "    <tr>\n",
       "      <th>75%</th>\n",
       "      <td>17211.000000</td>\n",
       "      <td>1.000000</td>\n",
       "    </tr>\n",
       "    <tr>\n",
       "      <th>max</th>\n",
       "      <td>18283.000000</td>\n",
       "      <td>17.000000</td>\n",
       "    </tr>\n",
       "  </tbody>\n",
       "</table>\n",
       "</div>"
      ],
      "text/plain": [
       "         CustomerID     Frequency\n",
       "count  34295.000000  34295.000000\n",
       "mean   15556.777927      1.166351\n",
       "std     1731.302737      0.589511\n",
       "min    12347.000000      1.000000\n",
       "25%    14161.000000      1.000000\n",
       "50%    15570.000000      1.000000\n",
       "75%    17211.000000      1.000000\n",
       "max    18283.000000     17.000000"
      ]
     },
     "metadata": {},
     "output_type": "display_data"
    },
    {
     "data": {
      "text/plain": [
       "(34295, 3)"
      ]
     },
     "metadata": {},
     "output_type": "display_data"
    }
   ],
   "source": [
    "df = df_train.copy()\n",
    "df['Frequency'] = 1\n",
    "df_grouped_customerItem = df[['CustomerID', 'Itemname', 'Frequency']].groupby(['CustomerID', 'Itemname']).sum().reset_index().sort_values(by='Frequency')\n",
    "display(df_grouped_customerItem.describe())\n",
    "display(df_grouped_customerItem.shape)"
   ]
  },
  {
   "cell_type": "code",
   "execution_count": 20,
   "id": "27f572a7",
   "metadata": {},
   "outputs": [
    {
     "data": {
      "image/png": "[encoded data removed]",
      "text/plain": [
       "<Figure size 1500x600 with 1 Axes>"
      ]
     },
     "metadata": {},
     "output_type": "display_data"
    },
    {
     "data": {
      "image/png": "[encoded data removed]",
      "text/plain": [
       "<Figure size 1500x600 with 1 Axes>"
      ]
     },
     "metadata": {},
     "output_type": "display_data"
    },
    {
     "data": {
      "image/png": "[encoded data removed]",
      "text/plain": [
       "<Figure size 1500x600 with 1 Axes>"
      ]
     },
     "metadata": {},
     "output_type": "display_data"
    }
   ],
   "source": [
    "# Top 10 most frequently bought items\n",
    "plt.figure(figsize=(15,6))\n",
    "df_train['Itemname'].value_counts()[:10].plot(kind='bar')\n",
    "plt.title('Top 10 most frequently bought items Individually')\n",
    "plt.xlabel('Item Name')\n",
    "labels = [ '\\n'.join(textwrap.wrap(l, 10)) for l in df_train['Itemname'].value_counts()[:10].index ]\n",
    "plt.xticks(range(10), labels, rotation=0)\n",
    "plt.ylabel('Frequency')\n",
    "plt.show()\n",
    "\n",
    "# Distribution of cost of items\n",
    "plt.figure(figsize=(15,6))\n",
    "sns.histplot(df_train['Price'], bins=50, kde=True)\n",
    "plt.title('Distribution of Price of Items Individually')\n",
    "plt.xlabel('Cost')\n",
    "plt.ylabel('Frequency')\n",
    "plt.show()\n",
    "\n",
    "# Distribution of cost of items\n",
    "plt.figure(figsize=(15,6))\n",
    "sns.histplot(df_grouped_customerItem['Frequency'], bins=15)\n",
    "plt.title('Distribution of Items Bought by Frequency')\n",
    "plt.xlabel('Items Bought Frequency')\n",
    "plt.ylabel('Frequency')\n",
    "plt.show()"
   ]
  },
  {
   "cell_type": "code",
   "execution_count": 8,
   "id": "3d2acd83",
   "metadata": {},
   "outputs": [
    {
     "name": "stdout",
     "output_type": "stream",
     "text": [
      "Unique Item count: 2523\n",
      "Unique Bill count: 2524\n",
      "Unique Customer count: 1391\n"
     ]
    }
   ],
   "source": [
    "print(\"Unique Item count:\",df_train['Itemname'].nunique())\n",
    "print(\"Unique Bill count:\",df_train['BillNo'].nunique())\n",
    "print(\"Unique Customer count:\",df_train['CustomerID'].nunique())"
   ]
  },
  {
   "cell_type": "code",
   "execution_count": 25,
   "id": "efa0a0bc",
   "metadata": {},
   "outputs": [
    {
     "data": {
      "text/html": [
       "<div>\n",
       "<style scoped>\n",
       "    .dataframe tbody tr th:only-of-type {\n",
       "        vertical-align: middle;\n",
       "    }\n",
       "\n",
       "    .dataframe tbody tr th {\n",
       "        vertical-align: top;\n",
       "    }\n",
       "\n",
       "    .dataframe thead th {\n",
       "        text-align: right;\n",
       "    }\n",
       "</style>\n",
       "<table border=\"1\" class=\"dataframe\">\n",
       "  <thead>\n",
       "    <tr style=\"text-align: right;\">\n",
       "      <th></th>\n",
       "      <th>UniqueItemCount</th>\n",
       "      <th>ItemNames</th>\n",
       "    </tr>\n",
       "    <tr>\n",
       "      <th>CustomerID</th>\n",
       "      <th></th>\n",
       "      <th></th>\n",
       "    </tr>\n",
       "  </thead>\n",
       "  <tbody>\n",
       "    <tr>\n",
       "      <th>12347</th>\n",
       "      <td>32</td>\n",
       "      <td>[ALARM CLOCK BAKELIKE GREEN, CAMOUFLAGE EAR MU...</td>\n",
       "    </tr>\n",
       "    <tr>\n",
       "      <th>12350</th>\n",
       "      <td>2</td>\n",
       "      <td>[PINK/PURPLE RETRO RADIO, RETRO MOD TRAY]</td>\n",
       "    </tr>\n",
       "    <tr>\n",
       "      <th>12352</th>\n",
       "      <td>10</td>\n",
       "      <td>[WELCOME  WOODEN BLOCK LETTERS, LOVE BUILDING ...</td>\n",
       "    </tr>\n",
       "    <tr>\n",
       "      <th>12356</th>\n",
       "      <td>1</td>\n",
       "      <td>[RED RETROSPOT CAKE STAND]</td>\n",
       "    </tr>\n",
       "    <tr>\n",
       "      <th>12362</th>\n",
       "      <td>16</td>\n",
       "      <td>[STRAWBERRY LUNCH BOX WITH CUTLERY, FELTCRAFT ...</td>\n",
       "    </tr>\n",
       "  </tbody>\n",
       "</table>\n",
       "</div>"
      ],
      "text/plain": [
       "            UniqueItemCount                                          ItemNames\n",
       "CustomerID                                                                    \n",
       "12347                    32  [ALARM CLOCK BAKELIKE GREEN, CAMOUFLAGE EAR MU...\n",
       "12350                     2          [PINK/PURPLE RETRO RADIO, RETRO MOD TRAY]\n",
       "12352                    10  [WELCOME  WOODEN BLOCK LETTERS, LOVE BUILDING ...\n",
       "12356                     1                         [RED RETROSPOT CAKE STAND]\n",
       "12362                    16  [STRAWBERRY LUNCH BOX WITH CUTLERY, FELTCRAFT ..."
      ]
     },
     "metadata": {},
     "output_type": "display_data"
    },
    {
     "data": {
      "text/html": [
       "<div>\n",
       "<style scoped>\n",
       "    .dataframe tbody tr th:only-of-type {\n",
       "        vertical-align: middle;\n",
       "    }\n",
       "\n",
       "    .dataframe tbody tr th {\n",
       "        vertical-align: top;\n",
       "    }\n",
       "\n",
       "    .dataframe thead th {\n",
       "        text-align: right;\n",
       "    }\n",
       "</style>\n",
       "<table border=\"1\" class=\"dataframe\">\n",
       "  <thead>\n",
       "    <tr style=\"text-align: right;\">\n",
       "      <th></th>\n",
       "      <th>UniqueItemCount</th>\n",
       "    </tr>\n",
       "  </thead>\n",
       "  <tbody>\n",
       "    <tr>\n",
       "      <th>count</th>\n",
       "      <td>1391.000000</td>\n",
       "    </tr>\n",
       "    <tr>\n",
       "      <th>mean</th>\n",
       "      <td>28.756290</td>\n",
       "    </tr>\n",
       "    <tr>\n",
       "      <th>std</th>\n",
       "      <td>46.259826</td>\n",
       "    </tr>\n",
       "    <tr>\n",
       "      <th>min</th>\n",
       "      <td>1.000000</td>\n",
       "    </tr>\n",
       "    <tr>\n",
       "      <th>25%</th>\n",
       "      <td>6.000000</td>\n",
       "    </tr>\n",
       "    <tr>\n",
       "      <th>50%</th>\n",
       "      <td>14.000000</td>\n",
       "    </tr>\n",
       "    <tr>\n",
       "      <th>75%</th>\n",
       "      <td>34.000000</td>\n",
       "    </tr>\n",
       "    <tr>\n",
       "      <th>max</th>\n",
       "      <td>632.000000</td>\n",
       "    </tr>\n",
       "  </tbody>\n",
       "</table>\n",
       "</div>"
      ],
      "text/plain": [
       "       UniqueItemCount\n",
       "count      1391.000000\n",
       "mean         28.756290\n",
       "std          46.259826\n",
       "min           1.000000\n",
       "25%           6.000000\n",
       "50%          14.000000\n",
       "75%          34.000000\n",
       "max         632.000000"
      ]
     },
     "metadata": {},
     "output_type": "display_data"
    },
    {
     "data": {
      "text/plain": [
       "(1391, 2)"
      ]
     },
     "metadata": {},
     "output_type": "display_data"
    }
   ],
   "source": [
    "df_grouped_CustomerID = pd.DataFrame(df_train.groupby('CustomerID').count()['Itemname'])\n",
    "df_grouped_CustomerID.rename(columns={'Itemname':'UniqueItemCount'}, inplace=True)\n",
    "df_grouped_CustomerID['ItemNames'] = df_train.groupby('CustomerID')['Itemname'].unique()\n",
    "display(df_grouped_CustomerID.head())\n",
    "display(df_grouped_CustomerID.describe())\n",
    "display(df_grouped_CustomerID.shape)"
   ]
  },
  {
   "cell_type": "code",
   "execution_count": 24,
   "id": "c5ab1958",
   "metadata": {},
   "outputs": [
    {
     "data": {
      "image/png": "[encoded data removed]",
      "text/plain": [
       "<Figure size 1000x600 with 1 Axes>"
      ]
     },
     "metadata": {},
     "output_type": "display_data"
    }
   ],
   "source": [
    "# Distribution of UniqueItemCount\n",
    "plt.figure(figsize=(10,6))\n",
    "sns.histplot(df_grouped_CustomerID['UniqueItemCount'], bins=50, kde=True)\n",
    "plt.title('Distribution of Unique Item Count Grouped by CustomerID')\n",
    "plt.xlabel('Unique Item Count')\n",
    "plt.ylabel('Frequency')\n",
    "plt.show()"
   ]
  },
  {
   "cell_type": "code",
   "execution_count": 26,
   "id": "fe6f77df",
   "metadata": {},
   "outputs": [],
   "source": [
    "\n",
    "# Get all item pairs\n",
    "item_pairs = df_grouped_CustomerID['ItemNames'].apply(lambda x: list(combinations(x, 2)))\n",
    "\n",
    "# Flatten the list of item pairs\n",
    "item_pairs = [item for sublist in item_pairs for item in sublist]\n",
    "\n",
    "# Get frequency of each pair\n",
    "pair_counts = Counter(item_pairs)\n",
    "\n",
    "# Convert to DataFrame\n",
    "pair_counts_df = pd.DataFrame.from_dict(pair_counts, orient='index').reset_index()\n",
    "pair_counts_df.columns = ['Item_Pair', 'Frequency']\n",
    "pair_counts_df.sort_values(by='Frequency', ascending=False, inplace=True)\n",
    "pair_counts_df.reset_index(inplace=True, drop=True)\n",
    "\n",
    "# Get all item pairs\n",
    "item_triples = df_grouped_CustomerID['ItemNames'].apply(lambda x: list(combinations(x, 3)))\n",
    "\n",
    "# Flatten the list of item pairs\n",
    "item_triples = [item for sublist in item_triples for item in sublist]\n",
    "\n",
    "# Get frequency of each pair\n",
    "triple_counts = Counter(item_triples)\n",
    "\n",
    "# Convert to DataFrame\n",
    "triple_counts_df = pd.DataFrame.from_dict(triple_counts, orient='index').reset_index()\n",
    "triple_counts_df.columns = ['Item_Pair', 'Frequency']\n",
    "triple_counts_df.sort_values(by='Frequency', ascending=False, inplace=True)\n",
    "triple_counts_df.reset_index(inplace=True, drop=True)"
   ]
  },
  {
   "cell_type": "code",
   "execution_count": 27,
   "id": "01b1cc0a",
   "metadata": {},
   "outputs": [
    {
     "name": "stdout",
     "output_type": "stream",
     "text": [
      "Pair Counts: 811093\n",
      "Triple Counts: 59115647\n"
     ]
    }
   ],
   "source": [
    "print(\"Pair Counts:\", pair_counts_df.shape[0])\n",
    "print(\"Triple Counts:\", triple_counts_df.shape[0])"
   ]
  },
  {
   "cell_type": "code",
   "execution_count": 28,
   "id": "b80029d3",
   "metadata": {},
   "outputs": [
    {
     "data": {
      "image/png": "[encoded data removed]",
      "text/plain": [
       "<Figure size 2000x500 with 1 Axes>"
      ]
     },
     "metadata": {},
     "output_type": "display_data"
    },
    {
     "data": {
      "image/png": "[encoded data removed]",
      "text/plain": [
       "<Figure size 2000x500 with 1 Axes>"
      ]
     },
     "metadata": {},
     "output_type": "display_data"
    }
   ],
   "source": [
    "# Plot the top 10 most frequently bought item pairs\n",
    "pair_counts_df[:10].plot(kind='bar', figsize=(20,5), x='Item_Pair', y='Frequency')\n",
    "plt.title('Frequency of Item Pairs')\n",
    "plt.xlabel('Item Pair')\n",
    "\n",
    "# Wrap the labels\n",
    "labels = [textwrap.fill(str(label), width=15) for label in pair_counts_df['Item_Pair'][:10]]\n",
    "plt.xticks(range(len(labels)), labels, rotation=0)\n",
    "\n",
    "plt.ylabel('Frequency')\n",
    "plt.show()\n",
    "\n",
    "\n",
    "# Plot the top 10 most frequently bought item triples\n",
    "triple_counts_df[:10].plot(kind='bar', figsize=(20,5), x='Item_Pair', y='Frequency')\n",
    "plt.title('Frequency of Item Triples')\n",
    "plt.xlabel('Item Triple')\n",
    "\n",
    "# Wrap the labels\n",
    "labels = [textwrap.fill(str(label), width=15) for label in triple_counts_df['Item_Pair'][:10]]\n",
    "plt.xticks(range(len(labels)), labels, rotation=0)\n",
    "\n",
    "plt.ylabel('Frequency')\n",
    "plt.show()"
   ]
  },
  {
   "cell_type": "code",
   "execution_count": 29,
   "id": "e0e401cd",
   "metadata": {},
   "outputs": [
    {
     "name": "stderr",
     "output_type": "stream",
     "text": [
      "c:\\Users\\axell\\anaconda3\\Lib\\site-packages\\mlxtend\\frequent_patterns\\fpcommon.py:109: DeprecationWarning: DataFrames with non-bool types result in worse computationalperformance and their support might be discontinued in the future.Please use a DataFrame with bool type\n",
      "  warnings.warn(\n"
     ]
    },
    {
     "data": {
      "text/html": [
       "<div>\n",
       "<style scoped>\n",
       "    .dataframe tbody tr th:only-of-type {\n",
       "        vertical-align: middle;\n",
       "    }\n",
       "\n",
       "    .dataframe tbody tr th {\n",
       "        vertical-align: top;\n",
       "    }\n",
       "\n",
       "    .dataframe thead th {\n",
       "        text-align: right;\n",
       "    }\n",
       "</style>\n",
       "<table border=\"1\" class=\"dataframe\">\n",
       "  <thead>\n",
       "    <tr style=\"text-align: right;\">\n",
       "      <th></th>\n",
       "      <th>support</th>\n",
       "      <th>itemsets</th>\n",
       "    </tr>\n",
       "  </thead>\n",
       "  <tbody>\n",
       "    <tr>\n",
       "      <th>0</th>\n",
       "      <td>0.010065</td>\n",
       "      <td>(12 DAISY PEGS IN WOOD BOX)</td>\n",
       "    </tr>\n",
       "    <tr>\n",
       "      <th>1</th>\n",
       "      <td>0.010065</td>\n",
       "      <td>(12 IVORY ROSE PEG PLACE SETTINGS)</td>\n",
       "    </tr>\n",
       "    <tr>\n",
       "      <th>2</th>\n",
       "      <td>0.015097</td>\n",
       "      <td>(12 MESSAGE CARDS WITH ENVELOPES)</td>\n",
       "    </tr>\n",
       "    <tr>\n",
       "      <th>3</th>\n",
       "      <td>0.015097</td>\n",
       "      <td>(12 PENCIL SMALL TUBE WOODLAND)</td>\n",
       "    </tr>\n",
       "    <tr>\n",
       "      <th>4</th>\n",
       "      <td>0.020848</td>\n",
       "      <td>(12 PENCILS SMALL TUBE RED RETROSPOT)</td>\n",
       "    </tr>\n",
       "    <tr>\n",
       "      <th>...</th>\n",
       "      <td>...</td>\n",
       "      <td>...</td>\n",
       "    </tr>\n",
       "    <tr>\n",
       "      <th>3662</th>\n",
       "      <td>0.012940</td>\n",
       "      <td>(ALARM CLOCK BAKELIKE RED, ALARM CLOCK BAKELIK...</td>\n",
       "    </tr>\n",
       "    <tr>\n",
       "      <th>3663</th>\n",
       "      <td>0.010784</td>\n",
       "      <td>(HEART OF WICKER LARGE, WHITE HANGING HEART T-...</td>\n",
       "    </tr>\n",
       "    <tr>\n",
       "      <th>3664</th>\n",
       "      <td>0.010065</td>\n",
       "      <td>(I'M ON HOLIDAY METAL SIGN, COOK WITH WINE MET...</td>\n",
       "    </tr>\n",
       "    <tr>\n",
       "      <th>3665</th>\n",
       "      <td>0.010065</td>\n",
       "      <td>(LUNCH BAG CARS BLUE, LUNCH BAG SUKI  DESIGN, ...</td>\n",
       "    </tr>\n",
       "    <tr>\n",
       "      <th>3666</th>\n",
       "      <td>0.010065</td>\n",
       "      <td>(LUNCH BAG CARS BLUE, LUNCH BAG DOLLY GIRL DES...</td>\n",
       "    </tr>\n",
       "  </tbody>\n",
       "</table>\n",
       "<p>3667 rows × 2 columns</p>\n",
       "</div>"
      ],
      "text/plain": [
       "       support                                           itemsets\n",
       "0     0.010065                        (12 DAISY PEGS IN WOOD BOX)\n",
       "1     0.010065                 (12 IVORY ROSE PEG PLACE SETTINGS)\n",
       "2     0.015097                  (12 MESSAGE CARDS WITH ENVELOPES)\n",
       "3     0.015097                    (12 PENCIL SMALL TUBE WOODLAND)\n",
       "4     0.020848              (12 PENCILS SMALL TUBE RED RETROSPOT)\n",
       "...        ...                                                ...\n",
       "3662  0.012940  (ALARM CLOCK BAKELIKE RED, ALARM CLOCK BAKELIK...\n",
       "3663  0.010784  (HEART OF WICKER LARGE, WHITE HANGING HEART T-...\n",
       "3664  0.010065  (I'M ON HOLIDAY METAL SIGN, COOK WITH WINE MET...\n",
       "3665  0.010065  (LUNCH BAG CARS BLUE, LUNCH BAG SUKI  DESIGN, ...\n",
       "3666  0.010065  (LUNCH BAG CARS BLUE, LUNCH BAG DOLLY GIRL DES...\n",
       "\n",
       "[3667 rows x 2 columns]"
      ]
     },
     "metadata": {},
     "output_type": "display_data"
    }
   ],
   "source": [
    "# Co-occurrence of items\n",
    "pivot_df = df_train.groupby(['CustomerID', 'Itemname']).size().unstack().fillna(0)\n",
    "\n",
    "# Convert pivot_df to binary format\n",
    "pivot_df_binary = pivot_df.applymap(lambda x: 1 if x > 0 else 0)\n",
    "\n",
    "# Association rules\n",
    "frequent_itemsets = apriori(pivot_df_binary, min_support=0.01, use_colnames=True)\n",
    "display(frequent_itemsets)"
   ]
  },
  {
   "cell_type": "code",
   "execution_count": 8,
   "id": "9e309878",
   "metadata": {},
   "outputs": [
    {
     "name": "stdout",
     "output_type": "stream",
     "text": [
      "Number of Itemsets above 0.0075 threshold 3667\n"
     ]
    }
   ],
   "source": [
    "print(\"Number of Itemsets above 0.0075 threshold\", len(frequent_itemsets))"
   ]
  },
  {
   "cell_type": "code",
   "execution_count": 17,
   "id": "50fd0e6a",
   "metadata": {},
   "outputs": [
    {
     "data": {
      "text/html": [
       "<div>\n",
       "<style scoped>\n",
       "    .dataframe tbody tr th:only-of-type {\n",
       "        vertical-align: middle;\n",
       "    }\n",
       "\n",
       "    .dataframe tbody tr th {\n",
       "        vertical-align: top;\n",
       "    }\n",
       "\n",
       "    .dataframe thead th {\n",
       "        text-align: right;\n",
       "    }\n",
       "</style>\n",
       "<table border=\"1\" class=\"dataframe\">\n",
       "  <thead>\n",
       "    <tr style=\"text-align: right;\">\n",
       "      <th></th>\n",
       "      <th>antecedents</th>\n",
       "      <th>consequents</th>\n",
       "      <th>antecedent support</th>\n",
       "      <th>consequent support</th>\n",
       "      <th>support</th>\n",
       "      <th>confidence</th>\n",
       "      <th>lift</th>\n",
       "      <th>leverage</th>\n",
       "      <th>conviction</th>\n",
       "      <th>zhangs_metric</th>\n",
       "    </tr>\n",
       "  </thead>\n",
       "  <tbody>\n",
       "    <tr>\n",
       "      <th>0</th>\n",
       "      <td>(60 CAKE CASES DOLLY GIRL DESIGN)</td>\n",
       "      <td>(72 SWEETHEART FAIRY CAKE CASES)</td>\n",
       "      <td>0.017254</td>\n",
       "      <td>0.042416</td>\n",
       "      <td>0.012940</td>\n",
       "      <td>0.750000</td>\n",
       "      <td>17.682203</td>\n",
       "      <td>0.012209</td>\n",
       "      <td>3.830338</td>\n",
       "      <td>0.960010</td>\n",
       "    </tr>\n",
       "    <tr>\n",
       "      <th>1</th>\n",
       "      <td>(PACK OF 60 DINOSAUR CAKE CASES)</td>\n",
       "      <td>(72 SWEETHEART FAIRY CAKE CASES)</td>\n",
       "      <td>0.022286</td>\n",
       "      <td>0.042416</td>\n",
       "      <td>0.017254</td>\n",
       "      <td>0.774194</td>\n",
       "      <td>18.252597</td>\n",
       "      <td>0.016308</td>\n",
       "      <td>4.240731</td>\n",
       "      <td>0.966759</td>\n",
       "    </tr>\n",
       "    <tr>\n",
       "      <th>2</th>\n",
       "      <td>(ALARM CLOCK BAKELIKE CHOCOLATE)</td>\n",
       "      <td>(ALARM CLOCK BAKELIKE GREEN)</td>\n",
       "      <td>0.025162</td>\n",
       "      <td>0.064702</td>\n",
       "      <td>0.020848</td>\n",
       "      <td>0.828571</td>\n",
       "      <td>12.806032</td>\n",
       "      <td>0.019220</td>\n",
       "      <td>5.455907</td>\n",
       "      <td>0.945707</td>\n",
       "    </tr>\n",
       "    <tr>\n",
       "      <th>3</th>\n",
       "      <td>(ALARM CLOCK BAKELIKE CHOCOLATE)</td>\n",
       "      <td>(ALARM CLOCK BAKELIKE RED)</td>\n",
       "      <td>0.025162</td>\n",
       "      <td>0.069734</td>\n",
       "      <td>0.020129</td>\n",
       "      <td>0.800000</td>\n",
       "      <td>11.472165</td>\n",
       "      <td>0.018375</td>\n",
       "      <td>4.651330</td>\n",
       "      <td>0.936394</td>\n",
       "    </tr>\n",
       "    <tr>\n",
       "      <th>4</th>\n",
       "      <td>(ALARM CLOCK BAKELIKE ORANGE)</td>\n",
       "      <td>(ALARM CLOCK BAKELIKE GREEN)</td>\n",
       "      <td>0.035226</td>\n",
       "      <td>0.064702</td>\n",
       "      <td>0.028037</td>\n",
       "      <td>0.795918</td>\n",
       "      <td>12.301361</td>\n",
       "      <td>0.025758</td>\n",
       "      <td>4.582962</td>\n",
       "      <td>0.952253</td>\n",
       "    </tr>\n",
       "    <tr>\n",
       "      <th>...</th>\n",
       "      <td>...</td>\n",
       "      <td>...</td>\n",
       "      <td>...</td>\n",
       "      <td>...</td>\n",
       "      <td>...</td>\n",
       "      <td>...</td>\n",
       "      <td>...</td>\n",
       "      <td>...</td>\n",
       "      <td>...</td>\n",
       "      <td>...</td>\n",
       "    </tr>\n",
       "    <tr>\n",
       "      <th>949</th>\n",
       "      <td>(LUNCH BAG DOLLY GIRL DESIGN, LUNCH BAG SUKI  ...</td>\n",
       "      <td>(LUNCH BAG SPACEBOY DESIGN)</td>\n",
       "      <td>0.010065</td>\n",
       "      <td>0.066139</td>\n",
       "      <td>0.010065</td>\n",
       "      <td>1.000000</td>\n",
       "      <td>15.119565</td>\n",
       "      <td>0.009399</td>\n",
       "      <td>inf</td>\n",
       "      <td>0.943355</td>\n",
       "    </tr>\n",
       "    <tr>\n",
       "      <th>950</th>\n",
       "      <td>(LUNCH BAG DOLLY GIRL DESIGN, LUNCH BAG SUKI  ...</td>\n",
       "      <td>(LUNCH BAG RED RETROSPOT)</td>\n",
       "      <td>0.011503</td>\n",
       "      <td>0.084831</td>\n",
       "      <td>0.010065</td>\n",
       "      <td>0.875000</td>\n",
       "      <td>10.314619</td>\n",
       "      <td>0.009089</td>\n",
       "      <td>7.321352</td>\n",
       "      <td>0.913558</td>\n",
       "    </tr>\n",
       "    <tr>\n",
       "      <th>951</th>\n",
       "      <td>(LUNCH BAG DOLLY GIRL DESIGN, LUNCH BAG RED RE...</td>\n",
       "      <td>(LUNCH BAG SUKI  DESIGN)</td>\n",
       "      <td>0.010784</td>\n",
       "      <td>0.063264</td>\n",
       "      <td>0.010065</td>\n",
       "      <td>0.933333</td>\n",
       "      <td>14.753030</td>\n",
       "      <td>0.009382</td>\n",
       "      <td>14.051042</td>\n",
       "      <td>0.942380</td>\n",
       "    </tr>\n",
       "    <tr>\n",
       "      <th>952</th>\n",
       "      <td>(LUNCH BAG DOLLY GIRL DESIGN, LUNCH BAG SUKI  ...</td>\n",
       "      <td>(LUNCH BAG RED RETROSPOT, LUNCH BAG SPACEBOY D...</td>\n",
       "      <td>0.012940</td>\n",
       "      <td>0.038821</td>\n",
       "      <td>0.010065</td>\n",
       "      <td>0.777778</td>\n",
       "      <td>20.034979</td>\n",
       "      <td>0.009562</td>\n",
       "      <td>4.325306</td>\n",
       "      <td>0.962543</td>\n",
       "    </tr>\n",
       "    <tr>\n",
       "      <th>953</th>\n",
       "      <td>(LUNCH BAG DOLLY GIRL DESIGN, LUNCH BAG SPACEB...</td>\n",
       "      <td>(LUNCH BAG SUKI  DESIGN, LUNCH BAG RED RETROSPOT)</td>\n",
       "      <td>0.012221</td>\n",
       "      <td>0.034508</td>\n",
       "      <td>0.010065</td>\n",
       "      <td>0.823529</td>\n",
       "      <td>23.865196</td>\n",
       "      <td>0.009643</td>\n",
       "      <td>5.471124</td>\n",
       "      <td>0.969952</td>\n",
       "    </tr>\n",
       "  </tbody>\n",
       "</table>\n",
       "<p>954 rows × 10 columns</p>\n",
       "</div>"
      ],
      "text/plain": [
       "                                           antecedents  \\\n",
       "0                    (60 CAKE CASES DOLLY GIRL DESIGN)   \n",
       "1                     (PACK OF 60 DINOSAUR CAKE CASES)   \n",
       "2                     (ALARM CLOCK BAKELIKE CHOCOLATE)   \n",
       "3                     (ALARM CLOCK BAKELIKE CHOCOLATE)   \n",
       "4                        (ALARM CLOCK BAKELIKE ORANGE)   \n",
       "..                                                 ...   \n",
       "949  (LUNCH BAG DOLLY GIRL DESIGN, LUNCH BAG SUKI  ...   \n",
       "950  (LUNCH BAG DOLLY GIRL DESIGN, LUNCH BAG SUKI  ...   \n",
       "951  (LUNCH BAG DOLLY GIRL DESIGN, LUNCH BAG RED RE...   \n",
       "952  (LUNCH BAG DOLLY GIRL DESIGN, LUNCH BAG SUKI  ...   \n",
       "953  (LUNCH BAG DOLLY GIRL DESIGN, LUNCH BAG SPACEB...   \n",
       "\n",
       "                                           consequents  antecedent support  \\\n",
       "0                     (72 SWEETHEART FAIRY CAKE CASES)            0.017254   \n",
       "1                     (72 SWEETHEART FAIRY CAKE CASES)            0.022286   \n",
       "2                         (ALARM CLOCK BAKELIKE GREEN)            0.025162   \n",
       "3                           (ALARM CLOCK BAKELIKE RED)            0.025162   \n",
       "4                         (ALARM CLOCK BAKELIKE GREEN)            0.035226   \n",
       "..                                                 ...                 ...   \n",
       "949                        (LUNCH BAG SPACEBOY DESIGN)            0.010065   \n",
       "950                          (LUNCH BAG RED RETROSPOT)            0.011503   \n",
       "951                           (LUNCH BAG SUKI  DESIGN)            0.010784   \n",
       "952  (LUNCH BAG RED RETROSPOT, LUNCH BAG SPACEBOY D...            0.012940   \n",
       "953  (LUNCH BAG SUKI  DESIGN, LUNCH BAG RED RETROSPOT)            0.012221   \n",
       "\n",
       "     consequent support   support  confidence       lift  leverage  \\\n",
       "0              0.042416  0.012940    0.750000  17.682203  0.012209   \n",
       "1              0.042416  0.017254    0.774194  18.252597  0.016308   \n",
       "2              0.064702  0.020848    0.828571  12.806032  0.019220   \n",
       "3              0.069734  0.020129    0.800000  11.472165  0.018375   \n",
       "4              0.064702  0.028037    0.795918  12.301361  0.025758   \n",
       "..                  ...       ...         ...        ...       ...   \n",
       "949            0.066139  0.010065    1.000000  15.119565  0.009399   \n",
       "950            0.084831  0.010065    0.875000  10.314619  0.009089   \n",
       "951            0.063264  0.010065    0.933333  14.753030  0.009382   \n",
       "952            0.038821  0.010065    0.777778  20.034979  0.009562   \n",
       "953            0.034508  0.010065    0.823529  23.865196  0.009643   \n",
       "\n",
       "     conviction  zhangs_metric  \n",
       "0      3.830338       0.960010  \n",
       "1      4.240731       0.966759  \n",
       "2      5.455907       0.945707  \n",
       "3      4.651330       0.936394  \n",
       "4      4.582962       0.952253  \n",
       "..          ...            ...  \n",
       "949         inf       0.943355  \n",
       "950    7.321352       0.913558  \n",
       "951   14.051042       0.942380  \n",
       "952    4.325306       0.962543  \n",
       "953    5.471124       0.969952  \n",
       "\n",
       "[954 rows x 10 columns]"
      ]
     },
     "metadata": {},
     "output_type": "display_data"
    },
    {
     "name": "stdout",
     "output_type": "stream",
     "text": [
      "Number of Rules 954\n"
     ]
    },
    {
     "data": {
      "text/html": [
       "<div>\n",
       "<style scoped>\n",
       "    .dataframe tbody tr th:only-of-type {\n",
       "        vertical-align: middle;\n",
       "    }\n",
       "\n",
       "    .dataframe tbody tr th {\n",
       "        vertical-align: top;\n",
       "    }\n",
       "\n",
       "    .dataframe thead th {\n",
       "        text-align: right;\n",
       "    }\n",
       "</style>\n",
       "<table border=\"1\" class=\"dataframe\">\n",
       "  <thead>\n",
       "    <tr style=\"text-align: right;\">\n",
       "      <th></th>\n",
       "      <th>antecedent support</th>\n",
       "      <th>consequent support</th>\n",
       "      <th>support</th>\n",
       "      <th>confidence</th>\n",
       "      <th>lift</th>\n",
       "      <th>leverage</th>\n",
       "      <th>conviction</th>\n",
       "      <th>zhangs_metric</th>\n",
       "    </tr>\n",
       "  </thead>\n",
       "  <tbody>\n",
       "    <tr>\n",
       "      <th>count</th>\n",
       "      <td>954.000000</td>\n",
       "      <td>954.000000</td>\n",
       "      <td>954.000000</td>\n",
       "      <td>954.000000</td>\n",
       "      <td>954.000000</td>\n",
       "      <td>954.000000</td>\n",
       "      <td>954.000000</td>\n",
       "      <td>954.000000</td>\n",
       "    </tr>\n",
       "    <tr>\n",
       "      <th>mean</th>\n",
       "      <td>0.014857</td>\n",
       "      <td>0.063005</td>\n",
       "      <td>0.012490</td>\n",
       "      <td>0.851046</td>\n",
       "      <td>23.210522</td>\n",
       "      <td>0.011525</td>\n",
       "      <td>inf</td>\n",
       "      <td>0.938406</td>\n",
       "    </tr>\n",
       "    <tr>\n",
       "      <th>std</th>\n",
       "      <td>0.005045</td>\n",
       "      <td>0.037228</td>\n",
       "      <td>0.003807</td>\n",
       "      <td>0.076326</td>\n",
       "      <td>23.968320</td>\n",
       "      <td>0.003405</td>\n",
       "      <td>NaN</td>\n",
       "      <td>0.045658</td>\n",
       "    </tr>\n",
       "    <tr>\n",
       "      <th>min</th>\n",
       "      <td>0.010065</td>\n",
       "      <td>0.010065</td>\n",
       "      <td>0.010065</td>\n",
       "      <td>0.750000</td>\n",
       "      <td>5.113971</td>\n",
       "      <td>0.008167</td>\n",
       "      <td>3.413372</td>\n",
       "      <td>0.816193</td>\n",
       "    </tr>\n",
       "    <tr>\n",
       "      <th>25%</th>\n",
       "      <td>0.012221</td>\n",
       "      <td>0.039540</td>\n",
       "      <td>0.010065</td>\n",
       "      <td>0.782609</td>\n",
       "      <td>9.707876</td>\n",
       "      <td>0.009600</td>\n",
       "      <td>4.332225</td>\n",
       "      <td>0.910697</td>\n",
       "    </tr>\n",
       "    <tr>\n",
       "      <th>50%</th>\n",
       "      <td>0.013659</td>\n",
       "      <td>0.051761</td>\n",
       "      <td>0.011503</td>\n",
       "      <td>0.826837</td>\n",
       "      <td>15.268954</td>\n",
       "      <td>0.010353</td>\n",
       "      <td>5.468218</td>\n",
       "      <td>0.948314</td>\n",
       "    </tr>\n",
       "    <tr>\n",
       "      <th>75%</th>\n",
       "      <td>0.016535</td>\n",
       "      <td>0.084831</td>\n",
       "      <td>0.012940</td>\n",
       "      <td>0.900000</td>\n",
       "      <td>21.679416</td>\n",
       "      <td>0.012150</td>\n",
       "      <td>9.514738</td>\n",
       "      <td>0.968282</td>\n",
       "    </tr>\n",
       "    <tr>\n",
       "      <th>max</th>\n",
       "      <td>0.084831</td>\n",
       "      <td>0.146657</td>\n",
       "      <td>0.065421</td>\n",
       "      <td>1.000000</td>\n",
       "      <td>92.733333</td>\n",
       "      <td>0.053528</td>\n",
       "      <td>inf</td>\n",
       "      <td>1.000000</td>\n",
       "    </tr>\n",
       "  </tbody>\n",
       "</table>\n",
       "</div>"
      ],
      "text/plain": [
       "       antecedent support  consequent support     support  confidence  \\\n",
       "count          954.000000          954.000000  954.000000  954.000000   \n",
       "mean             0.014857            0.063005    0.012490    0.851046   \n",
       "std              0.005045            0.037228    0.003807    0.076326   \n",
       "min              0.010065            0.010065    0.010065    0.750000   \n",
       "25%              0.012221            0.039540    0.010065    0.782609   \n",
       "50%              0.013659            0.051761    0.011503    0.826837   \n",
       "75%              0.016535            0.084831    0.012940    0.900000   \n",
       "max              0.084831            0.146657    0.065421    1.000000   \n",
       "\n",
       "             lift    leverage  conviction  zhangs_metric  \n",
       "count  954.000000  954.000000  954.000000     954.000000  \n",
       "mean    23.210522    0.011525         inf       0.938406  \n",
       "std     23.968320    0.003405         NaN       0.045658  \n",
       "min      5.113971    0.008167    3.413372       0.816193  \n",
       "25%      9.707876    0.009600    4.332225       0.910697  \n",
       "50%     15.268954    0.010353    5.468218       0.948314  \n",
       "75%     21.679416    0.012150    9.514738       0.968282  \n",
       "max     92.733333    0.053528         inf       1.000000  "
      ]
     },
     "metadata": {},
     "output_type": "display_data"
    }
   ],
   "source": [
    "# Generate association rules\n",
    "rules = association_rules(frequent_itemsets, metric=\"confidence\", min_threshold=0.75)\n",
    "display(rules)\n",
    "print(\"Number of Rules\", len(rules))\n",
    "display(rules.describe())"
   ]
  },
  {
   "cell_type": "markdown",
   "id": "49d0bf2a",
   "metadata": {},
   "source": [
    "### 3. Pre-process the data"
   ]
  },
  {
   "cell_type": "markdown",
   "id": "d86b1f14",
   "metadata": {},
   "source": [
    "#### 3.1 Process Training Data"
   ]
  },
  {
   "cell_type": "code",
   "execution_count": 11,
   "id": "d430f028",
   "metadata": {},
   "outputs": [],
   "source": [
    "# Create a copy of the df_train dataframe\n",
    "df = df_train.copy()\n",
    "df.drop(columns=['BillNo', 'Date', 'cost', 'Price'], inplace=True)\n",
    "df.dropna(inplace=True)\n",
    "df['Frequency'] = 1\n",
    "df = df[['CustomerID', 'Itemname', 'Quantity', 'Frequency']].groupby(['CustomerID', 'Itemname']).sum().reset_index()\n",
    "\n",
    "# Encode the item names into integers\n",
    "item_encoder = {item: i for i, item in enumerate(df['Itemname'].unique())}\n",
    "df['ItemID'] = df['Itemname'].map(item_encoder)\n",
    "\n",
    "df_encoded_train = df.copy()\n",
    "\n",
    "sparse_item_customer_train = sparse.csr_matrix((df_encoded_train['Frequency'].astype(float), (df_encoded_train['ItemID'], df_encoded_train['CustomerID'])))\n",
    "sparse_customer_item_train = sparse_item_customer_train.T.tocsr()"
   ]
  },
  {
   "cell_type": "markdown",
   "id": "63ad069e",
   "metadata": {},
   "source": [
    "#### 3.2 Process Testing Data"
   ]
  },
  {
   "cell_type": "code",
   "execution_count": 12,
   "id": "1f085507",
   "metadata": {},
   "outputs": [],
   "source": [
    "# Create a copy of the df_test dataframe\n",
    "df = df_test.copy()\n",
    "df.drop(columns=['BillNo', 'Date', 'cost'], inplace=True)\n",
    "df.dropna(inplace=True)\n",
    "\n",
    "df = df[df['Itemname'].isin(df_train['Itemname'].unique())]\n",
    "\n",
    "# Convert the Quantity and CustomerID columns to integers\n",
    "df['Quantity'] = df['Quantity'].astype(int)\n",
    "df['CustomerID'] = df['CustomerID'].astype(int)\n",
    "\n",
    "# Encode the item names into integers and add the ItemID column\n",
    "df['ItemID'] = df['Itemname'].map(item_encoder)\n",
    "df['ItemID'] = df['ItemID'].astype(int)\n",
    "\n",
    "df['Frequency'] = 1\n",
    "\n",
    "df_old_customer = df[df['CustomerID'].isin(df_train['CustomerID'].unique())]\n",
    "df_new_customer = df[~df['CustomerID'].isin(df_train['CustomerID'].unique())]\n",
    "\n",
    "# Group by CustomerID, Itemname and ItemID and sum the Quantity\n",
    "df_encoded_test_old_customer = df_old_customer[['CustomerID', 'Itemname', 'Quantity', 'ItemID', 'Frequency']].groupby(['CustomerID', 'Itemname', 'ItemID']).sum().reset_index()\n",
    "df_encoded_test_new_customer = df_new_customer[['CustomerID', 'Itemname', 'Quantity', 'ItemID', 'Frequency']].groupby(['CustomerID', 'Itemname', 'ItemID']).sum().reset_index()\n",
    "\n",
    "# Create the sparse matrices\n",
    "sparse_item_customer_test = sparse.csr_matrix((df_encoded_test_old_customer['Frequency'].astype(float), (df_encoded_test_old_customer['ItemID'], df_encoded_test_old_customer['CustomerID'])))\n",
    "sparse_customer_item_test = sparse_item_customer_test.T.tocsr()\n",
    "\n",
    "interaction_matrix_new_customer = pd.pivot_table(df_encoded_test_new_customer, values='Frequency', index='CustomerID', columns='ItemID', fill_value=0)"
   ]
  },
  {
   "cell_type": "markdown",
   "id": "333cefa8",
   "metadata": {},
   "source": [
    "### 4. Implement, train and test prediction models"
   ]
  },
  {
   "cell_type": "code",
   "execution_count": 13,
   "id": "54e59d99",
   "metadata": {},
   "outputs": [],
   "source": [
    "train = sparse_customer_item_train\n",
    "test = sparse_customer_item_test\n",
    "K = 20"
   ]
  },
  {
   "cell_type": "code",
   "execution_count": 71,
   "id": "4c2b9049",
   "metadata": {},
   "outputs": [],
   "source": [
    "def evaluate(train, test, k, model):\n",
    "    AUC = AUC_at_k(model, train, test, K=k, show_progress=False)\n",
    "    print(f\"AUC@{k}:\",AUC)\n",
    "\n",
    "    MAP = mean_average_precision_at_k(model, train, test, K=k, show_progress=False)\n",
    "    print(f\"MAP@{k}:\",MAP)\n",
    "\n",
    "    NDCG = ndcg_at_k(model, train, test, K=k, show_progress=False)\n",
    "    print(f\"NDCG@{k}:\",NDCG)\n",
    "    \n",
    "    return AUC, MAP, NDCG"
   ]
  },
  {
   "cell_type": "code",
   "execution_count": 86,
   "id": "6c13e5ef",
   "metadata": {},
   "outputs": [],
   "source": [
    "def calculate_map(y_true_list, y_score_list):\n",
    "    ap_scores = [average_precision_score(y_true, y_score) for y_true, y_score in zip(y_true_list, y_score_list)]\n",
    "    return sum(ap_scores) / len(ap_scores)\n",
    "\n",
    "def evaluate_top_seller(interaction_matrix, top_selling, k):\n",
    "    # Initialize lists to store the true labels and the predicted scores\n",
    "    y_true = []\n",
    "    y_score = []\n",
    "    for customer_id in interaction_matrix.index:\n",
    "        # Get the items the user actually interacted with in the test set\n",
    "        actual = interaction_matrix.loc[customer_id]\n",
    "        actual = actual[actual > 0].index.values\n",
    "        \n",
    "        # Create a binary label for each item: 1 if the user interacted with it, 0 otherwise\n",
    "        labels = [1 if item in actual else 0 for item in top_selling]\n",
    "        y_true.append(labels)\n",
    "        \n",
    "        # The predicted score for each item is its rank in reverse order\n",
    "        scores = list(np.arange(K, 0, -1))\n",
    "        y_score.append(scores)\n",
    "\n",
    "    # Calculate the metrics\n",
    "    auc = roc_auc_score(y_true, y_score)\n",
    "    map_score = calculate_map(y_true, y_score)\n",
    "    ndcg = ndcg_score(y_true, y_score)\n",
    "\n",
    "    print(f'AUC@{k}:', auc)\n",
    "    print(f'MAP@{k}:', map_score)\n",
    "    print(f'NDCG@{k}:', ndcg)\n",
    "    \n",
    "    return auc, map_score, ndcg "
   ]
  },
  {
   "cell_type": "markdown",
   "id": "d540cff5",
   "metadata": {},
   "source": [
    "#### 4.1 Alternating Least Squares Model"
   ]
  },
  {
   "cell_type": "code",
   "execution_count": 27,
   "id": "6dbbbaed",
   "metadata": {},
   "outputs": [],
   "source": [
    "model_ALS = implicit.als.AlternatingLeastSquares(factors=64, regularization=0.1, iterations=50, random_state=42)\n",
    "\n",
    "model_ALS.fit(train, show_progress=False)"
   ]
  },
  {
   "cell_type": "code",
   "execution_count": 72,
   "id": "ddccc10e",
   "metadata": {},
   "outputs": [
    {
     "name": "stdout",
     "output_type": "stream",
     "text": [
      "AUC@20: 0.5403089421924973\n",
      "MAP@20: 0.04086476542512466\n",
      "NDCG@20: 0.09421474045092162\n"
     ]
    }
   ],
   "source": [
    "AUC_ALS, MAP_ALS, NDCG_ALS = evaluate(train, test, K, model_ALS)"
   ]
  },
  {
   "cell_type": "markdown",
   "id": "e8e19631",
   "metadata": {},
   "source": [
    "#### 4.2 Bayesian Personalized Ranking Model"
   ]
  },
  {
   "cell_type": "code",
   "execution_count": 29,
   "id": "2973ab64",
   "metadata": {},
   "outputs": [],
   "source": [
    "model_BPR = implicit.bpr.BayesianPersonalizedRanking(factors=64, regularization=0.1, iterations=50, random_state=42)\n",
    "\n",
    "model_BPR.fit(train, show_progress=False)"
   ]
  },
  {
   "cell_type": "code",
   "execution_count": 73,
   "id": "8081d8f0",
   "metadata": {},
   "outputs": [
    {
     "name": "stdout",
     "output_type": "stream",
     "text": [
      "AUC@20: 0.5126303129860296\n",
      "MAP@20: 0.009833698847636093\n",
      "NDCG@20: 0.03725772536593007\n"
     ]
    }
   ],
   "source": [
    "AUC_BPR, MAP_BPR, NDCG_BPR = evaluate(train, test, K, model_BPR)"
   ]
  },
  {
   "cell_type": "markdown",
   "id": "1e62864e",
   "metadata": {},
   "source": [
    "#### 4.3 Logistic Matrix Factorization Model"
   ]
  },
  {
   "cell_type": "code",
   "execution_count": 31,
   "id": "cb998533",
   "metadata": {},
   "outputs": [],
   "source": [
    "model_LMF = implicit.lmf.LogisticMatrixFactorization(factors=64, regularization=0.1, iterations=50, random_state=42)\n",
    "model_LMF.fit(train, show_progress=False)"
   ]
  },
  {
   "cell_type": "code",
   "execution_count": 32,
   "id": "b7dd5d27",
   "metadata": {},
   "outputs": [
    {
     "name": "stdout",
     "output_type": "stream",
     "text": [
      "AUC@20: 0.5267587293042234\n",
      "MAP@20: 0.018449577840910208\n",
      "NDCG@20: 0.05314899273301233\n"
     ]
    }
   ],
   "source": [
    "AUC_LMF, MAP_LMF, NDCG_LMF = evaluate(train, test, K, model_LMF)"
   ]
  },
  {
   "cell_type": "markdown",
   "id": "c61e7071",
   "metadata": {},
   "source": [
    "#### 4.4 Top Seller Model (New Customer Only)"
   ]
  },
  {
   "cell_type": "code",
   "execution_count": 65,
   "id": "6ea58853",
   "metadata": {},
   "outputs": [],
   "source": [
    "# Group by Itemname and ItemID and sum the Quantity\n",
    "df_top_seller = df_encoded_train[['Itemname', 'Quantity', 'ItemID', 'Frequency']].groupby(['Itemname', 'ItemID']).sum().sort_values('Frequency', ascending=False)\n",
    "\n",
    "# Get the top K items\n",
    "def recommend_top_selling(k):\n",
    "    return df_top_seller.index[:k].get_level_values('ItemID').to_list()"
   ]
  },
  {
   "cell_type": "code",
   "execution_count": 90,
   "id": "86857ad5",
   "metadata": {},
   "outputs": [
    {
     "name": "stdout",
     "output_type": "stream",
     "text": [
      "AUC@20: 0.5\n",
      "MAP@20: 0.17537889210889118\n",
      "NDCG@20: 0.2852084906647702\n"
     ]
    }
   ],
   "source": [
    "# Get the top k selling items\n",
    "top_selling = recommend_top_selling(K)\n",
    "\n",
    "AUC_top_seller, MAP_top_seller, NDCG_top_seller = evaluate_top_seller(interaction_matrix_new_customer, top_selling, K)"
   ]
  },
  {
   "cell_type": "markdown",
   "id": "993b945d",
   "metadata": {},
   "source": [
    "### 5. Compare the models"
   ]
  },
  {
   "cell_type": "code",
   "execution_count": 88,
   "id": "c8de371b",
   "metadata": {},
   "outputs": [
    {
     "data": {
      "text/html": [
       "<div>\n",
       "<style scoped>\n",
       "    .dataframe tbody tr th:only-of-type {\n",
       "        vertical-align: middle;\n",
       "    }\n",
       "\n",
       "    .dataframe tbody tr th {\n",
       "        vertical-align: top;\n",
       "    }\n",
       "\n",
       "    .dataframe thead th {\n",
       "        text-align: right;\n",
       "    }\n",
       "</style>\n",
       "<table border=\"1\" class=\"dataframe\">\n",
       "  <thead>\n",
       "    <tr style=\"text-align: right;\">\n",
       "      <th></th>\n",
       "      <th>Model</th>\n",
       "      <th>AUC@20</th>\n",
       "      <th>MAP@20</th>\n",
       "      <th>NDCG@20</th>\n",
       "    </tr>\n",
       "  </thead>\n",
       "  <tbody>\n",
       "    <tr>\n",
       "      <th>0</th>\n",
       "      <td>ALS</td>\n",
       "      <td>0.540309</td>\n",
       "      <td>0.040865</td>\n",
       "      <td>0.094215</td>\n",
       "    </tr>\n",
       "    <tr>\n",
       "      <th>1</th>\n",
       "      <td>BPR</td>\n",
       "      <td>0.512630</td>\n",
       "      <td>0.009834</td>\n",
       "      <td>0.037258</td>\n",
       "    </tr>\n",
       "    <tr>\n",
       "      <th>2</th>\n",
       "      <td>LMF</td>\n",
       "      <td>0.526759</td>\n",
       "      <td>0.018450</td>\n",
       "      <td>0.053149</td>\n",
       "    </tr>\n",
       "    <tr>\n",
       "      <th>3</th>\n",
       "      <td>Top Seller (New Customer only)</td>\n",
       "      <td>0.500000</td>\n",
       "      <td>0.175379</td>\n",
       "      <td>0.285208</td>\n",
       "    </tr>\n",
       "  </tbody>\n",
       "</table>\n",
       "</div>"
      ],
      "text/plain": [
       "                            Model    AUC@20    MAP@20   NDCG@20\n",
       "0                             ALS  0.540309  0.040865  0.094215\n",
       "1                             BPR  0.512630  0.009834  0.037258\n",
       "2                             LMF  0.526759  0.018450  0.053149\n",
       "3  Top Seller (New Customer only)  0.500000  0.175379  0.285208"
      ]
     },
     "metadata": {},
     "output_type": "display_data"
    }
   ],
   "source": [
    "# Create a dictionary with the evaluation scores\n",
    "evaluation_scores = {\n",
    "    'Model': ['ALS', 'BPR', 'LMF', 'Top Seller (New Customer only)'],\n",
    "    f'AUC@{K}': [AUC_ALS, AUC_BPR, AUC_LMF, AUC_top_seller],\n",
    "    f'MAP@{K}': [MAP_ALS, MAP_BPR, MAP_LMF, MAP_top_seller],\n",
    "    f'NDCG@{K}': [NDCG_ALS, NDCG_BPR, NDCG_LMF, NDCG_top_seller],\n",
    "}\n",
    "\n",
    "# Create a DataFrame from the dictionary\n",
    "evaluation_table = pd.DataFrame(evaluation_scores)\n",
    "\n",
    "# Display the table\n",
    "display(evaluation_table)"
   ]
  },
  {
   "cell_type": "markdown",
   "id": "cb485899",
   "metadata": {},
   "source": [
    "ALS model is the best, combined with Top Seller to recommend items to new Customer with no past transaction history."
   ]
  },
  {
   "cell_type": "code",
   "execution_count": 60,
   "id": "91c3fe10",
   "metadata": {},
   "outputs": [],
   "source": [
    "item_decoder = {i: item for item, i in item_encoder.items()}"
   ]
  },
  {
   "cell_type": "code",
   "execution_count": 67,
   "id": "a799a9a6",
   "metadata": {},
   "outputs": [
    {
     "data": {
      "text/html": [
       "<div>\n",
       "<style scoped>\n",
       "    .dataframe tbody tr th:only-of-type {\n",
       "        vertical-align: middle;\n",
       "    }\n",
       "\n",
       "    .dataframe tbody tr th {\n",
       "        vertical-align: top;\n",
       "    }\n",
       "\n",
       "    .dataframe thead th {\n",
       "        text-align: right;\n",
       "    }\n",
       "</style>\n",
       "<table border=\"1\" class=\"dataframe\">\n",
       "  <thead>\n",
       "    <tr style=\"text-align: right;\">\n",
       "      <th></th>\n",
       "      <th>CustomerID</th>\n",
       "      <th>Item Name</th>\n",
       "      <th>Intersect</th>\n",
       "      <th>Score</th>\n",
       "      <th>Intersect %</th>\n",
       "    </tr>\n",
       "  </thead>\n",
       "  <tbody>\n",
       "    <tr>\n",
       "      <th>21</th>\n",
       "      <td>12712</td>\n",
       "      <td>[3 HOOK PHOTO SHELF ANTIQUE WHITE, BLUE COAT RACK PARIS FASHION, IVORY GIANT GARDEN THERMOMETER, WOODEN FRAME ANTIQUE WHITE, WOODEN PICTURE FRAME WHITE FINISH]</td>\n",
       "      <td>[WOODEN FRAME ANTIQUE WHITE, IVORY GIANT GARDEN THERMOMETER, WOODEN PICTURE FRAME WHITE FINISH, BLUE COAT RACK PARIS FASHION, 3 HOOK PHOTO SHELF ANTIQUE WHITE]</td>\n",
       "      <td>[0.54160106, 0.48499346, 0.4241623, 0.3602286, 0.4474218]</td>\n",
       "      <td>100.000000</td>\n",
       "    </tr>\n",
       "    <tr>\n",
       "      <th>59</th>\n",
       "      <td>13742</td>\n",
       "      <td>[CANDLEHOLDER PINK HANGING HEART, HOME BUILDING BLOCK WORD, IVORY GIANT GARDEN THERMOMETER, LOVE BUILDING BLOCK WORD, MA CAMPAGNE CUTLERY BOX, SET OF 6 SPICE TINS PANTRY DESIGN, WHITE HANGING HEART T-LIGHT HOLDER, WOODEN FRAME ANTIQUE WHITE, WOODEN PICTURE FRAME WHITE FINISH]</td>\n",
       "      <td>[WOODEN FRAME ANTIQUE WHITE, SET OF 6 SPICE TINS PANTRY DESIGN, IVORY GIANT GARDEN THERMOMETER, WOODEN PICTURE FRAME WHITE FINISH, LOVE BUILDING BLOCK WORD, CANDLEHOLDER PINK HANGING HEART, WHITE HANGING HEART T-LIGHT HOLDER, HOME BUILDING BLOCK WORD]</td>\n",
       "      <td>[1.1508428, 1.0952762, 1.1196388, 0.94205403, 0.9090387, 0.9727556, 1.2830827, 1.091254]</td>\n",
       "      <td>88.888889</td>\n",
       "    </tr>\n",
       "    <tr>\n",
       "      <th>60</th>\n",
       "      <td>13767</td>\n",
       "      <td>[ALARM CLOCK BAKELIKE GREEN, ALARM CLOCK BAKELIKE RED, DOORMAT WELCOME TO OUR HOME, GREEN REGENCY TEACUP AND SAUCER, PINK REGENCY TEACUP AND SAUCER, REGENCY CAKESTAND 3 TIER, ROSES REGENCY TEACUP AND SAUCER]</td>\n",
       "      <td>[ALARM CLOCK BAKELIKE GREEN, PINK REGENCY TEACUP AND SAUCER, ALARM CLOCK BAKELIKE RED, REGENCY CAKESTAND 3 TIER, GREEN REGENCY TEACUP AND SAUCER, ROSES REGENCY TEACUP AND SAUCER]</td>\n",
       "      <td>[1.0302672, 0.42271474, 0.9985105, 1.0901626, 0.8569158, 0.9580794]</td>\n",
       "      <td>85.714286</td>\n",
       "    </tr>\n",
       "    <tr>\n",
       "      <th>85</th>\n",
       "      <td>14466</td>\n",
       "      <td>[RECIPE BOX BLUE SKETCHBOOK DESIGN, RECIPE BOX PANTRY YELLOW DESIGN, RECIPE BOX RETROSPOT, RED RETROSPOT APRON, RED RETROSPOT CAKE STAND, REGENCY CAKESTAND 3 TIER]</td>\n",
       "      <td>[RECIPE BOX PANTRY YELLOW DESIGN, RECIPE BOX BLUE SKETCHBOOK DESIGN, RED RETROSPOT APRON, REGENCY CAKESTAND 3 TIER, RECIPE BOX RETROSPOT, RED RETROSPOT CAKE STAND]</td>\n",
       "      <td>[0.3083158, 0.14942434, 0.20679508, 0.97753435, 0.32583565, 0.58021206]</td>\n",
       "      <td>100.000000</td>\n",
       "    </tr>\n",
       "    <tr>\n",
       "      <th>182</th>\n",
       "      <td>16722</td>\n",
       "      <td>[JUMBO STORAGE BAG SKULLS, LUNCH BAG  BLACK SKULL., LUNCH BAG CARS BLUE, LUNCH BAG DOLLY GIRL DESIGN, LUNCH BAG PINK POLKADOT, LUNCH BAG RED RETROSPOT, LUNCH BAG SPACEBOY DESIGN, LUNCH BAG SUKI  DESIGN, LUNCH BAG WOODLAND]</td>\n",
       "      <td>[LUNCH BAG SPACEBOY DESIGN, LUNCH BAG SUKI  DESIGN, LUNCH BAG DOLLY GIRL DESIGN, LUNCH BAG CARS BLUE, LUNCH BAG PINK POLKADOT, LUNCH BAG WOODLAND, LUNCH BAG  BLACK SKULL., LUNCH BAG RED RETROSPOT]</td>\n",
       "      <td>[0.7280563, 0.80547434, 0.542163, 0.7454314, 0.5851331, 0.61073554, 0.771979, 0.8967705]</td>\n",
       "      <td>88.888889</td>\n",
       "    </tr>\n",
       "  </tbody>\n",
       "</table>\n",
       "</div>"
      ],
      "text/plain": [
       "     CustomerID  \\\n",
       "21        12712   \n",
       "59        13742   \n",
       "60        13767   \n",
       "85        14466   \n",
       "182       16722   \n",
       "\n",
       "                                                                                                                                                                                                                                                                                Item Name  \\\n",
       "21                                                                                                                        [3 HOOK PHOTO SHELF ANTIQUE WHITE, BLUE COAT RACK PARIS FASHION, IVORY GIANT GARDEN THERMOMETER, WOODEN FRAME ANTIQUE WHITE, WOODEN PICTURE FRAME WHITE FINISH]   \n",
       "59   [CANDLEHOLDER PINK HANGING HEART, HOME BUILDING BLOCK WORD, IVORY GIANT GARDEN THERMOMETER, LOVE BUILDING BLOCK WORD, MA CAMPAGNE CUTLERY BOX, SET OF 6 SPICE TINS PANTRY DESIGN, WHITE HANGING HEART T-LIGHT HOLDER, WOODEN FRAME ANTIQUE WHITE, WOODEN PICTURE FRAME WHITE FINISH]   \n",
       "60                                                                        [ALARM CLOCK BAKELIKE GREEN, ALARM CLOCK BAKELIKE RED, DOORMAT WELCOME TO OUR HOME, GREEN REGENCY TEACUP AND SAUCER, PINK REGENCY TEACUP AND SAUCER, REGENCY CAKESTAND 3 TIER, ROSES REGENCY TEACUP AND SAUCER]   \n",
       "85                                                                                                                    [RECIPE BOX BLUE SKETCHBOOK DESIGN, RECIPE BOX PANTRY YELLOW DESIGN, RECIPE BOX RETROSPOT, RED RETROSPOT APRON, RED RETROSPOT CAKE STAND, REGENCY CAKESTAND 3 TIER]   \n",
       "182                                                        [JUMBO STORAGE BAG SKULLS, LUNCH BAG  BLACK SKULL., LUNCH BAG CARS BLUE, LUNCH BAG DOLLY GIRL DESIGN, LUNCH BAG PINK POLKADOT, LUNCH BAG RED RETROSPOT, LUNCH BAG SPACEBOY DESIGN, LUNCH BAG SUKI  DESIGN, LUNCH BAG WOODLAND]   \n",
       "\n",
       "                                                                                                                                                                                                                                                       Intersect  \\\n",
       "21                                                                                               [WOODEN FRAME ANTIQUE WHITE, IVORY GIANT GARDEN THERMOMETER, WOODEN PICTURE FRAME WHITE FINISH, BLUE COAT RACK PARIS FASHION, 3 HOOK PHOTO SHELF ANTIQUE WHITE]   \n",
       "59   [WOODEN FRAME ANTIQUE WHITE, SET OF 6 SPICE TINS PANTRY DESIGN, IVORY GIANT GARDEN THERMOMETER, WOODEN PICTURE FRAME WHITE FINISH, LOVE BUILDING BLOCK WORD, CANDLEHOLDER PINK HANGING HEART, WHITE HANGING HEART T-LIGHT HOLDER, HOME BUILDING BLOCK WORD]   \n",
       "60                                                                            [ALARM CLOCK BAKELIKE GREEN, PINK REGENCY TEACUP AND SAUCER, ALARM CLOCK BAKELIKE RED, REGENCY CAKESTAND 3 TIER, GREEN REGENCY TEACUP AND SAUCER, ROSES REGENCY TEACUP AND SAUCER]   \n",
       "85                                                                                           [RECIPE BOX PANTRY YELLOW DESIGN, RECIPE BOX BLUE SKETCHBOOK DESIGN, RED RETROSPOT APRON, REGENCY CAKESTAND 3 TIER, RECIPE BOX RETROSPOT, RED RETROSPOT CAKE STAND]   \n",
       "182                                                         [LUNCH BAG SPACEBOY DESIGN, LUNCH BAG SUKI  DESIGN, LUNCH BAG DOLLY GIRL DESIGN, LUNCH BAG CARS BLUE, LUNCH BAG PINK POLKADOT, LUNCH BAG WOODLAND, LUNCH BAG  BLACK SKULL., LUNCH BAG RED RETROSPOT]   \n",
       "\n",
       "                                                                                        Score  \\\n",
       "21                                  [0.54160106, 0.48499346, 0.4241623, 0.3602286, 0.4474218]   \n",
       "59   [1.1508428, 1.0952762, 1.1196388, 0.94205403, 0.9090387, 0.9727556, 1.2830827, 1.091254]   \n",
       "60                        [1.0302672, 0.42271474, 0.9985105, 1.0901626, 0.8569158, 0.9580794]   \n",
       "85                    [0.3083158, 0.14942434, 0.20679508, 0.97753435, 0.32583565, 0.58021206]   \n",
       "182  [0.7280563, 0.80547434, 0.542163, 0.7454314, 0.5851331, 0.61073554, 0.771979, 0.8967705]   \n",
       "\n",
       "     Intersect %  \n",
       "21    100.000000  \n",
       "59     88.888889  \n",
       "60     85.714286  \n",
       "85    100.000000  \n",
       "182    88.888889  "
      ]
     },
     "metadata": {},
     "output_type": "display_data"
    }
   ],
   "source": [
    "import pandas as pd\n",
    "# Create \n",
    "df_cust = df_encoded_test_old_customer[['CustomerID', 'ItemID']].groupby('CustomerID').aggregate(lambda x: list(x)).reset_index()\n",
    "df_cust['Recommend'] = df_cust['CustomerID'].apply(lambda x: model_ALS.recommend(x, train, N=K, filter_already_liked_items=False)[0])\n",
    "df_cust['Score'] = df_cust['CustomerID'].apply(lambda x: model_ALS.recommend(x, train, N=K, filter_already_liked_items=False)[1])\n",
    "df_cust['Intersect'] = df_cust.apply(lambda row: set(row['ItemID']).intersection(set(row['Recommend'])), axis=1)\n",
    "df_cust['Intersect %'] = df_cust.apply(lambda x: len(x['Intersect'])/len(x['ItemID']) * 100, axis=1)\n",
    "df_cust = df_cust[(df_cust['Intersect %'] > 80) & (df_cust['ItemID'].apply(len) > 4)]\n",
    "df_cust['Score'] = df_cust.apply(lambda row: [row['Score'][row['Recommend'].tolist().index(item)] for item in row['Intersect']], axis=1)\n",
    "df_cust['Item Name'] = df_cust['ItemID'].apply(lambda x: [item_decoder[i] for i in x])\n",
    "df_cust['Recommend'] = df_cust['Recommend'].apply(lambda x: [item_decoder[i] for i in x])\n",
    "df_cust['Intersect'] = df_cust['Intersect'].apply(lambda x: [item_decoder[i] for i in x])\n",
    "# Set display options\n",
    "pd.set_option('display.max_columns', None)\n",
    "pd.set_option('display.max_rows', None)\n",
    "pd.set_option('display.max_colwidth', None)\n",
    "\n",
    "# Your code here\n",
    "display(df_cust[['CustomerID', 'Item Name', 'Intersect', 'Score', 'Intersect %']])\n",
    "\n",
    "# Reset display options to default\n",
    "pd.reset_option('display.max_columns')\n",
    "pd.reset_option('display.max_rows')\n",
    "pd.reset_option('display.max_colwidth')\n"
   ]
  },
  {
   "cell_type": "markdown",
   "id": "0eecbce9",
   "metadata": {},
   "source": [
    "According to the AUC metric, all models are around 0.5, meaning that their recommendations are close to being random (Allwright, 2022), especially the top sales model that has 0.5 AUC score which does not provide any useful recommendation as it was not personalized to any users."
   ]
  }
 ],
 "metadata": {
  "kernelspec": {
   "display_name": "Python 3 (ipykernel)",
   "language": "python",
   "name": "python3"
  },
  "language_info": {
   "codemirror_mode": {
    "name": "ipython",
    "version": 3
   },
   "file_extension": ".py",
   "mimetype": "text/x-python",
   "name": "python",
   "nbconvert_exporter": "python",
   "pygments_lexer": "ipython3",
   "version": "3.11.5"
  }
 },
 "nbformat": 4,
 "nbformat_minor": 5
}
