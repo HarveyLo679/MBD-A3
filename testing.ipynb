{
 "cells": [
  {
   "cell_type": "code",
   "execution_count": 5,
   "id": "e5452b78",
   "metadata": {},
   "outputs": [
    {
     "name": "stdout",
     "output_type": "stream",
     "text": [
      " Mode: user mode\n",
      " Recommended Items: ['root vegetables', 'sliced cheese', 'butter', 'chocolate']\n",
      " Reason: No matched rules, fallback to popular items\n",
      " Top Rules:\n",
      "  antecedents  consequents  support  confidence     lift  combo_score  surprise_score  rec_value      NUS\n",
      "(frankfurter) (whole milk) 0.002033    0.166667 1.277269     0.212878        0.156910  13.851520 0.795643\n",
      "      (candy) (whole milk) 0.002153    0.134328 1.029440     0.138283        0.126465   8.099960 0.557959\n",
      "  (ice cream) (whole milk) 0.001555    0.123810 0.948828     0.117474        0.116562   7.618189 0.476518\n",
      "   (cat food) (whole milk) 0.001794    0.126050 0.966001     0.121765        0.118672   7.542944 0.491931\n",
      "    (napkins)     (pastry) 0.002033    0.081340 1.638750     0.133295        0.079572   6.380213 0.811746\n"
     ]
    }
   ],
   "source": [
    "import pandas as pd\n",
    "from pattern_recommender import PatternRecommender\n",
    "import pickle\n",
    "\n",
    "raw_df = pd.read_csv('./data/Groceries data test.csv')\n",
    "\n",
    "with open(\"saved_rules.pkl\", \"rb\") as f:\n",
    "    saved_rules = pickle.load(f)\n",
    "\n",
    "recommender = PatternRecommender(raw_df)\n",
    "output = recommender.raw_data_mining(\n",
    "    user_id=2430,\n",
    "    recent_days=344,\n",
    "    min_support=0.0015,\n",
    "    top_k=5,\n",
    "    pre_mined_rules=saved_rules\n",
    ")\n",
    "\n",
    "print(\" Mode:\", output[\"mode\"])\n",
    "print(\" Recommended Items:\", output[\"recommended_items\"])\n",
    "print(\" Reason:\", output[\"reason\"])\n",
    "print(\" Top Rules:\")\n",
    "print(output[\"top_rules\"].to_string(index=False))"
   ]
  },
  {
   "cell_type": "code",
   "execution_count": 2,
   "id": "8c958cdf",
   "metadata": {},
   "outputs": [
    {
     "name": "stdout",
     "output_type": "stream",
     "text": [
      "['root vegetables' 'sliced cheese' 'butter' 'chocolate']\n",
      "2015-01-20 00:00:00 2015-01-20 00:00:00\n"
     ]
    }
   ],
   "source": [
    "print(recommender.raw_df[recommender.raw_df['user_id'] == 2430]['itemdescription'].unique())\n",
    "print(\n",
    "    recommender.raw_df[recommender.raw_df['user_id'] == 2430]['date'].min(),\n",
    "    recommender.raw_df[recommender.raw_df['user_id'] == 2430]['date'].max()\n",
    ")\n"
   ]
  },
  {
   "cell_type": "code",
   "execution_count": 3,
   "id": "540b2781",
   "metadata": {},
   "outputs": [
    {
     "name": "stdout",
     "output_type": "stream",
     "text": [
      "['root vegetables' 'sliced cheese' 'butter' 'chocolate']\n",
      "2015-01-20 00:00:00 2015-01-20 00:00:00\n"
     ]
    }
   ],
   "source": [
    "raw_df.columns = raw_df.columns.str.strip().str.lower().str.replace(' ', '_')\n",
    "raw_df['date'] = pd.to_datetime(raw_df[['year', 'month', 'day']])\n",
    "\n",
    "print(raw_df[raw_df['user_id'] == 2430]['itemdescription'].unique())\n",
    "print(\n",
    "    raw_df[raw_df['user_id'] == 2430]['date'].min(),\n",
    "    raw_df[raw_df['user_id'] == 2430]['date'].max()\n",
    ")\n"
   ]
  },
  {
   "cell_type": "code",
   "execution_count": 4,
   "id": "455efe9c",
   "metadata": {},
   "outputs": [
    {
     "name": "stdout",
     "output_type": "stream",
     "text": [
      "['root vegetables' 'sliced cheese' 'butter' 'chocolate']\n"
     ]
    }
   ],
   "source": [
    "print(raw_df[raw_df['user_id'] == 2430]['itemdescription'].unique())"
   ]
  }
 ],
 "metadata": {
  "kernelspec": {
   "display_name": "umlt",
   "language": "python",
   "name": "python3"
  },
  "language_info": {
   "codemirror_mode": {
    "name": "ipython",
    "version": 3
   },
   "file_extension": ".py",
   "mimetype": "text/x-python",
   "name": "python",
   "nbconvert_exporter": "python",
   "pygments_lexer": "ipython3",
   "version": "3.10.14"
  }
 },
 "nbformat": 4,
 "nbformat_minor": 5
}
