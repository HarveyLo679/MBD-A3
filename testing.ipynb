{
 "cells": [
  {
   "cell_type": "code",
   "execution_count": 7,
   "id": "e5452b78",
   "metadata": {},
   "outputs": [
    {
     "name": "stdout",
     "output_type": "stream",
     "text": [
      " Mode: user mode with rules\n",
      " Recommended Items: [('whole milk', 4.12653), ('rolls/buns', 3.82535), ('napkins', 2.11549)]\n",
      " Reason: Rules matched and used\n",
      " Top Rules:\n",
      "            antecedents  consequents  support  confidence     lift  combo_score  surprise_score  rec_value      NUS  user_rule_score\n",
      "              (sausage) (whole milk) 0.002751    0.106977 0.819828     0.087703        0.100715   4.126527 0.291870         0.410770\n",
      "(fruit/vegetable juice) (rolls/buns) 0.003708    0.100977 0.990928     0.100061        0.096401   3.825354 0.451644         0.385243\n",
      "               (pastry)    (napkins) 0.002033    0.040964 1.638750     0.067130        0.040518   2.115489 0.722666         0.151520\n"
     ]
    }
   ],
   "source": [
    "import pandas as pd\n",
    "from pattern_recommender import PatternRecommender\n",
    "import pickle\n",
    "\n",
    "raw_df = pd.read_csv('./data/Groceries data train.csv')\n",
    "\n",
    "with open(\"saved_rules.pkl\", \"rb\") as f:\n",
    "    saved_rules = pickle.load(f)\n",
    "\n",
    "recommender = PatternRecommender(raw_df)\n",
    "output = recommender.raw_data_mining(\n",
    "    user_id=2430,\n",
    "    recent_days=365,\n",
    "    min_support=0.0015,\n",
    "    top_k=5,\n",
    "    pre_mined_rules=saved_rules\n",
    ")\n",
    "\n",
    "print(\" Mode:\", output[\"mode\"])\n",
    "print(\" Recommended Items:\", output[\"recommended_items\"])\n",
    "print(\" Reason:\", output[\"reason\"])\n",
    "if \"top_rules\" in output:\n",
    "    print(\" Top Rules:\")\n",
    "    print(output[\"top_rules\"].to_string(index=False))\n",
    "else:\n",
    "    print(\" No top rules available.\")"
   ]
  },
  {
   "cell_type": "code",
   "execution_count": 2,
   "id": "c348b62c",
   "metadata": {},
   "outputs": [
    {
     "name": "stdout",
     "output_type": "stream",
     "text": [
      "Keys in output: dict_keys(['mode', 'recommended_items', 'reason', 'top_rules', 'user_rule_score'])\n"
     ]
    }
   ],
   "source": [
    "print(\"Keys in output:\", output.keys())"
   ]
  },
  {
   "cell_type": "code",
   "execution_count": 3,
   "id": "24e5f14c",
   "metadata": {},
   "outputs": [
    {
     "name": "stdout",
     "output_type": "stream",
     "text": [
      "2014-01-28 00:00:00\n",
      "2015-01-20 00:00:00\n"
     ]
    }
   ],
   "source": [
    "print(recommender.raw_df[recommender.raw_df['user_id'] == 2430]['date'].min())\n",
    "print(recommender.raw_df[recommender.raw_df['user_id'] == 2430]['date'].max())\n"
   ]
  },
  {
   "cell_type": "code",
   "execution_count": 4,
   "id": "8c958cdf",
   "metadata": {},
   "outputs": [
    {
     "name": "stdout",
     "output_type": "stream",
     "text": [
      "['butter' 'frozen vegetables']\n",
      "2014-01-01 00:00:00 2014-01-01 00:00:00\n"
     ]
    }
   ],
   "source": [
    "print(recommender.raw_df[recommender.raw_df['user_id'] == 4942]['itemdescription'].unique())\n",
    "print(\n",
    "    recommender.raw_df[recommender.raw_df['user_id'] == 4942]['date'].min(),\n",
    "    recommender.raw_df[recommender.raw_df['user_id'] == 4942]['date'].max()\n",
    ")\n"
   ]
  },
  {
   "cell_type": "code",
   "execution_count": 5,
   "id": "540b2781",
   "metadata": {},
   "outputs": [
    {
     "name": "stdout",
     "output_type": "stream",
     "text": [
      "['pastry' 'margarine' 'sausage' 'fruit/vegetable juice' 'specialty bar']\n",
      "2014-01-28 00:00:00 2015-01-20 00:00:00\n"
     ]
    }
   ],
   "source": [
    "raw_df.columns = raw_df.columns.str.strip().str.lower().str.replace(' ', '_')\n",
    "raw_df['date'] = pd.to_datetime(raw_df[['year', 'month', 'day']])\n",
    "\n",
    "print(raw_df[raw_df['user_id'] == 2430]['itemdescription'].unique())\n",
    "print(\n",
    "    raw_df[raw_df['user_id'] == 2430]['date'].min(),\n",
    "    raw_df[raw_df['user_id'] == 2430]['date'].max()\n",
    ")\n"
   ]
  },
  {
   "cell_type": "code",
   "execution_count": 6,
   "id": "455efe9c",
   "metadata": {},
   "outputs": [
    {
     "name": "stdout",
     "output_type": "stream",
     "text": [
      "['pastry' 'margarine' 'sausage' 'fruit/vegetable juice' 'specialty bar']\n"
     ]
    }
   ],
   "source": [
    "print(raw_df[raw_df['user_id'] == 2430]['itemdescription'].unique())"
   ]
  }
 ],
 "metadata": {
  "kernelspec": {
   "display_name": "umlt",
   "language": "python",
   "name": "python3"
  },
  "language_info": {
   "codemirror_mode": {
    "name": "ipython",
    "version": 3
   },
   "file_extension": ".py",
   "mimetype": "text/x-python",
   "name": "python",
   "nbconvert_exporter": "python",
   "pygments_lexer": "ipython3",
   "version": "3.10.14"
  }
 },
 "nbformat": 4,
 "nbformat_minor": 5
}
